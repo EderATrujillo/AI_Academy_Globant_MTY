{
 "cells": [
  {
   "cell_type": "markdown",
   "metadata": {},
   "source": [
    "Árboles de Decisión\n",
    "\n",
    "Son modelos predictivos que utilizan un conjunto de reglas basadas en características de los datos para tomar decisiones.\n",
    "\n",
    "Un árbol de decisión es una estructura jerárquica en la que cada nodo representa una característica (o atributo) de los datos,\n",
    "cada rama representa un resultado de esa característica, y cada hoja representa una etiqueta de clase o un valor de predicción.\n",
    "\n",
    "    A[Ingreso > $70,000] -->|Sí| B[Edad]\n",
    "    B -->|≥ 40| C[Compra: Sí]\n",
    "    B -->|< 40| D[Compra: No]\n",
    "    A -->|No| E[Género]\n",
    "    E -->|M| F[Compra: Sí]\n",
    "    E -->|F| G[Compra: No]\n",
    "  \n",
    "\n",
    "\n",
    "INGRESO se utiliza como el primer criterio de decisión.<br>\n",
    "Si el ingreso es superior a $70,000, el árbol de decisión se basa en la edad. Si no, se basa en el género.<br><br>\n",
    "EDAD determina la probabilidad de compra para clientes con ingresos altos.<br>\n",
    "Clientes con ingresos > $70,000 y edad ≥ 40 tienen una mayor probabilidad de comprar.<br>\n",
    "Clientes con ingresos > $70,000 y edad < 40 tienen una menor probabilidad de comprar.<br><br>\n",
    "GENERO determina la probabilidad de compra para clientes con ingresos ≤ $70,000.<br>\n",
    "Clientes con ingresos ≤ $70,000 y género masculino (M) tienen una mayor probabilidad de comprar.<br>\n",
    "Clientes con ingresos ≤ $70,000 y género femenino (F) tienen una menor probabilidad de comprar.<br><br>\n",
    "\n",
    "EJEMPLOS DE USO<br>\n",
    "\n",
    "Probabilidad de compra:<br>\n",
    "Variables: Ingreso, Edad, Género<br>\n",
    "Objetivo: Determinar si una persona va a hacer cierta compra o no.<br>"
   ]
  },
  {
   "cell_type": "code",
   "execution_count": null,
   "metadata": {},
   "outputs": [],
   "source": [
    "!pip3 install numpy pandas matplotlib scikit-learn"
   ]
  },
  {
   "cell_type": "code",
   "execution_count": null,
   "metadata": {},
   "outputs": [],
   "source": [
    "# Importar las bibliotecas\n",
    "import numpy as np\n",
    "import pandas as pd\n",
    "import matplotlib.pyplot as plt\n",
    "from sklearn.model_selection import train_test_split\n",
    "from sklearn.tree import DecisionTreeClassifier\n",
    "from sklearn.metrics import accuracy_score, classification_report, confusion_matrix\n",
    "from sklearn.preprocessing import LabelEncoder\n",
    "\n",
    "print(\"Todas las bibliotecas se importaron correctamente.\")"
   ]
  },
  {
   "cell_type": "code",
   "execution_count": null,
   "metadata": {},
   "outputs": [],
   "source": [
    "# Generar datos sintéticos para segmentación de mercado\n",
    "np.random.seed(0)\n",
    "n = 200\n",
    "# Factores a tomar en cuenta para la segmentacion de mercado\n",
    "# - edad: entre 18 y 70 años\n",
    "# - ingreso: entre 20000 y 120000)\n",
    "# - geénero: masculino y femenino\n",
    "# - compra: sí o no\n",
    "edad = np.random.randint(18, 70, n)\n",
    "ingreso = np.random.randint(20000, 120000, n)\n",
    "genero = np.random.choice(['M', 'F'], n)\n",
    "compra = np.random.choice(['Sí', 'No'], n)\n",
    "\n",
    "# Crear DataFrame\n",
    "data = pd.DataFrame({\n",
    "    'Edad': edad,\n",
    "    'Ingreso Anual': ingreso,\n",
    "    'Género': genero,\n",
    "    'Compra': compra\n",
    "})\n",
    "\n",
    "# Guardar a CSV\n",
    "data.to_csv('segmentacion_mercado.csv', index=False)"
   ]
  },
  {
   "cell_type": "code",
   "execution_count": null,
   "metadata": {},
   "outputs": [],
   "source": [
    "# Cargar datos\n",
    "data = pd.read_csv('segmentacion_mercado.csv')\n",
    "\n",
    "# Mostrar las primeras filas\n",
    "print(data.head())\n",
    "\n",
    "# Estadísticas descriptivas\n",
    "# count: valores no nulos\n",
    "# mean: promedio (suma de los valores de cada columna entre numero de filas)\n",
    "# std: desviación estandar\n",
    "# min: valor minimo por columna\n",
    "# 25%: el 25% de las casa están por debajo de esos valores\n",
    "# 50%: el 50% de las casa están por debajo de esos valores\n",
    "# 75%: el 75% de las casa están por debajo de esos valores\n",
    "# max: valor máximo por columna\n",
    "print(data.describe())"
   ]
  },
  {
   "cell_type": "code",
   "execution_count": null,
   "metadata": {},
   "outputs": [],
   "source": [
    "# Distribución de compra\n",
    "plt.hist(data['Compra'])\n",
    "plt.xlabel('Compra')\n",
    "plt.ylabel('Frecuencia')\n",
    "plt.title('Distribución de Compra')\n",
    "plt.show()\n",
    "\n",
    "# Codificar las variables categóricas\n",
    "label_encoder = LabelEncoder()\n",
    "data['Género'] = label_encoder.fit_transform(data['Género'])\n",
    "data['Compra'] = label_encoder.fit_transform(data['Compra'])\n",
    "\n",
    "# Aqui podemos ver una gráfica, donde en el eje x estan las opciones ('Sí' y 'No') \n",
    "# En el eje y vemos la frecuencia de cada categoría en los datos. \n",
    "# La frecuencia indica cuántas veces aparece cada categoría en un conjunto de datos.\n",
    "# Aqui vemos que la columna No, son 101, porque en los datos, son 101 las personas que no compran, \n",
    "# Y vemos 99 que sí compran, que son los que aparece como Sí en los datos"
   ]
  },
  {
   "cell_type": "code",
   "execution_count": null,
   "metadata": {},
   "outputs": [],
   "source": [
    "# Características que vamos a tener en cuenta para entrenar el modelo\n",
    "X = data[['Edad', 'Ingreso Anual', 'Género']]\n",
    "\n",
    "# Objetivo, saber la probabilidad de si alguien con ciertas características va a comprar\n",
    "y = data['Compra']\n",
    "\n",
    "# Dividir en conjuntos de entrenamiento y prueba\n",
    "# X variables que se usarán para la predicción\n",
    "# y variable que queremos predecir\n",
    "# test_size=0.2: indica que usaremos el 20% de los datos para el conjunto de prueba y el 80% para el conjunto de entrenamiento\n",
    "# Conjunto de entrenamiento se usa para entrenar el modelo, se usa para enseñar al modelo la relacion entre los patrones en los datos (mientras mas, mejor)\n",
    "# Conjunto de prueba se usa para comparar las predicciones y ver que tan acertadas son\n",
    "# random_state: se utiliza para controlar cómo se dividen los datos aleatorios. Si dos personas ejecutan la misma función con el mismo valor para random_state, \n",
    "#   obtendrán exactamente la misma división de datos (pruebas y entrenamiento).\n",
    "X_train, X_test, y_train, y_test = train_test_split(X, y, test_size=0.2, random_state=0)"
   ]
  },
  {
   "cell_type": "code",
   "execution_count": null,
   "metadata": {},
   "outputs": [],
   "source": [
    "# Crear el modelo\n",
    "modelo = DecisionTreeClassifier(random_state=0)\n",
    "\n",
    "# Entrenar el modelo\n",
    "modelo.fit(X_train, y_train)"
   ]
  },
  {
   "cell_type": "code",
   "execution_count": null,
   "metadata": {},
   "outputs": [],
   "source": [
    "# Predecir en el conjunto de prueba\n",
    "y_pred = modelo.predict(X_test)\n",
    "\n",
    "# Evaluar el modelo\n",
    "\n",
    "# Clase 0 (No compra)\n",
    "# Precision: 0.57 (de todas las predicciones que el modelo hizo como 'No compra', el 57% fueron correctas)\n",
    "# Recall: 0.48 (de todas las instancias reales de 'No compra', el 48% fueron correctamente identificadas por el modelo)\n",
    "# F1-score: 0.52 (la media de la precisión y el recall)\n",
    "# Support: 25 (el número de instancias reales de 'No compra' en el conjunto de prueba)\n",
    "\n",
    "# Clase 1 (Compra)\n",
    "# Precision: 0.32 (de todas las predicciones que el modelo hizo como 'Compra', el 32% fueron correctas)\n",
    "# Recall: 0.40 (de todas las instancias reales de 'Compra', el 40% fueron correctamente identificadas por el modelo)\n",
    "# F1-score: 0.35 (la media armónica de la precisión y el recall)\n",
    "# Support: 15 (el número de instancias reales de 'Compra' en el conjunto de prueba)\n",
    "\n",
    "# Accuracy: 0.45 (la proporción total de predicciones correctas)\n",
    "# Macro avg: 0.44 (el promedio no ponderado de precisión, recall y f1-score para todas las clases)\n",
    "# Weighted avg: 0.48 (el promedio ponderado de precisión, recall y f1-score, teniendo en cuenta el número de instancias en cada clase)\n",
    "\n",
    "accuracy = accuracy_score(y_test, y_pred)\n",
    "print(\"Precisión:\", accuracy)\n",
    "\n",
    "print(\"Reporte de clasificación:\")\n",
    "print(classification_report(y_test, y_pred))\n",
    "\n",
    "print(\"Matriz de confusión:\")\n",
    "print(confusion_matrix(y_test, y_pred))"
   ]
  },
  {
   "cell_type": "code",
   "execution_count": null,
   "metadata": {},
   "outputs": [],
   "source": [
    "from sklearn.tree import plot_tree\n",
    "\n",
    "# Visualizar la importancia de las características\n",
    "importances = modelo.feature_importances_\n",
    "features = X.columns\n",
    "indices = np.argsort(importances)[::-1]\n",
    "\n",
    "# En la siguiente gráfica podemos ver cuales son las características más importante a considerar\n",
    "\n",
    "plt.figure(figsize=(8, 6))\n",
    "plt.title('Importancia de las características')\n",
    "plt.bar(range(X.shape[1]), importances[indices], align='center')\n",
    "plt.xticks(range(X.shape[1]), [features[i] for i in indices])\n",
    "plt.show()"
   ]
  }
 ],
 "metadata": {
  "kernelspec": {
   "display_name": "Python 3",
   "language": "python",
   "name": "python3"
  },
  "language_info": {
   "codemirror_mode": {
    "name": "ipython",
    "version": 3
   },
   "file_extension": ".py",
   "mimetype": "text/x-python",
   "name": "python",
   "nbconvert_exporter": "python",
   "pygments_lexer": "ipython3",
   "version": "3.11.4"
  },
  "orig_nbformat": 4
 },
 "nbformat": 4,
 "nbformat_minor": 2
}
