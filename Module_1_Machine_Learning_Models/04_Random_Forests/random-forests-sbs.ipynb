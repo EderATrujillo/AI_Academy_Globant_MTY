{
 "cells": [
  {
   "cell_type": "markdown",
   "metadata": {},
   "source": [
    "Bosques aleatorios\n",
    "\n",
    "Están relacinados con los árboles de decisión. <br>\n",
    "Un bosque aleatorio se construye con múltiples árboles de decisión y los combina para obtener una predicción más robusta y precisa. <br>\n",
    "Cada árbol se entrena con una muestra diferente del conjunto de datosy selecciona un subconjunto aleatorio de características para dividir en cada nodo.\n",
    "\n",
    "\n",
    "                   Conjunto de Datos                    \n",
    " \n",
    "    |  Muestra Aleatoria 1   |  Muestra Aleatoria 2     |\n",
    "    | (Entrenamiento Árbol 1)| (Entrenamiento Árbol 2)  |\n",
    "    +------------------------+--------------------------+\n",
    "             |                           |\n",
    "          Árbol de                   Árbol de\n",
    "         Decisión 1                 Decisión 2\n",
    "             |                           |\n",
    "    +----------+-----------+   +-----------+-----------+\n",
    "    | Selección Aleatoria  |   | Selección Aleatoria  |\n",
    "    | de Características  |    | de Características  |\n",
    "    | para Divisiones     |    | para Divisiones     |\n",
    "    +----------+-----------+   +-----------+-----------+\n",
    "               |                           |\n",
    "     +---------+---------+       +---------+---------+\n",
    "     | Predicción de    |       | Predicción de    |\n",
    "     | Árbol 1          |       | Árbol 2          |\n",
    "     +---------+---------+       +---------+---------+\n",
    "               |                           |\n",
    "        +------+---------------------------+------+\n",
    "        |          Votación Promediada            |\n",
    "        |         de Todos los Árboles            |\n",
    "        +---------------------------------------+\n",
    "                                 |\n",
    "                         Predicción Final\n",
    "\n",
    "\n",
    "\n",
    "EJEMPLOS DE USO\n",
    "\n",
    "Detección de fraudes: <br>\n",
    "Variables: detalles de transacciones, patrones de comportamiento del usuario, etc. <br>\n",
    "Objetivo: Identificar transacciones fraudulentas. <br>\n",
    "Uso: Seguridad en sistemas de pagos electrónicos. <br>\n"
   ]
  },
  {
   "cell_type": "code",
   "execution_count": null,
   "metadata": {},
   "outputs": [],
   "source": [
    "!pip3 install numpy pandas matplotlib scikit-learn imbalanced-learn"
   ]
  },
  {
   "cell_type": "code",
   "execution_count": null,
   "metadata": {},
   "outputs": [],
   "source": [
    "# Importar las bibliotecas\n",
    "import numpy as np\n",
    "import pandas as pd\n",
    "import matplotlib.pyplot as plt\n",
    "from sklearn.model_selection import train_test_split, RandomizedSearchCV\n",
    "from sklearn.preprocessing import LabelEncoder\n",
    "from sklearn.ensemble import RandomForestClassifier\n",
    "from sklearn.metrics import accuracy_score, classification_report, confusion_matrix\n",
    "from imblearn.over_sampling import SMOTE\n",
    "from imblearn.pipeline import Pipeline\n",
    "\n",
    "\n",
    "print(\"Todas las bibliotecas se importaron correctamente.\")"
   ]
  },
  {
   "cell_type": "code",
   "execution_count": null,
   "metadata": {},
   "outputs": [],
   "source": [
    "# Generar datos sintéticos para segmentación de mercado\n",
    "np.random.seed(0)\n",
    "n = 200\n",
    "\n",
    "edad = np.random.randint(18, 70, n)\n",
    "ingreso = np.random.randint(20000, 120000, n)\n",
    "genero = np.random.choice(['M', 'F'], n)\n",
    "compra = np.random.choice(['Sí', 'No'], n)\n",
    "\n",
    "# Crear DataFrame\n",
    "data = pd.DataFrame({\n",
    "    'Edad': edad,\n",
    "    'Ingreso Anual': ingreso,\n",
    "    'Género': genero,\n",
    "    'Compra': compra\n",
    "})\n",
    "\n",
    "# Guardar a CSV\n",
    "data.to_csv('segmentacion_mercado.csv', index=False)"
   ]
  },
  {
   "cell_type": "code",
   "execution_count": null,
   "metadata": {},
   "outputs": [],
   "source": [
    "# Cargar datos\n",
    "data = pd.read_csv('segmentacion_mercado.csv')\n",
    "\n",
    "# Mostrar las primeras filas\n",
    "print(data.head())\n",
    "print(data.describe())"
   ]
  },
  {
   "cell_type": "code",
   "execution_count": null,
   "metadata": {},
   "outputs": [],
   "source": [
    "# Distribución de compra\n",
    "plt.hist(data['Compra'])\n",
    "plt.xlabel('Compra')\n",
    "plt.ylabel('Frecuencia')\n",
    "plt.title('Distribución de Compra')\n",
    "plt.show()\n",
    "\n",
    "# Codificar las variables categóricas\n",
    "label_encoder = LabelEncoder()\n",
    "data['Género'] = label_encoder.fit_transform(data['Género'])\n",
    "data['Compra'] = label_encoder.fit_transform(data['Compra'])"
   ]
  },
  {
   "cell_type": "code",
   "execution_count": null,
   "metadata": {},
   "outputs": [],
   "source": [
    "# Características que vamos a tener en cuenta para entrenar el modelo\n",
    "X = data[['Edad', 'Ingreso Anual', 'Género']]\n",
    "\n",
    "# Objetivo, saber la probabilidad de si alguien con ciertas características va a comprar\n",
    "y = data['Compra']\n",
    "\n",
    "# Dividir en conjuntos de entrenamiento y prueba\n",
    "X_train, X_test, y_train, y_test = train_test_split(X, y, test_size=0.2, random_state=0)"
   ]
  },
  {
   "cell_type": "code",
   "execution_count": null,
   "metadata": {},
   "outputs": [],
   "source": [
    "# # Balancear las clases y ajustar los hiperparámetros usando un pipeline\n",
    "# pipeline = Pipeline([\n",
    "#     ('smote', SMOTE(random_state=0)),\n",
    "#     ('rf', RandomForestClassifier(random_state=0))\n",
    "# ])\n",
    "\n",
    "# # Hiperparámetros para buscar\n",
    "# param_grid = {\n",
    "#     'rf__n_estimators': [50, 100, 200],\n",
    "#     'rf__max_depth': [None, 10, 20, 30],\n",
    "#     'rf__min_samples_split': [2, 5, 10],\n",
    "#     'rf__min_samples_leaf': [1, 2, 4],\n",
    "# }\n",
    "\n",
    "# # Búsqueda aleatoria de hiperparámetros\n",
    "# random_search = RandomizedSearchCV(pipeline, param_distributions=param_grid, n_iter=20, cv=5, random_state=0, n_jobs=-1)\n",
    "\n",
    "# # Entrenar el modelo\n",
    "# random_search.fit(X_train, y_train)\n",
    "\n",
    "modelo_rf = RandomForestClassifier(n_estimators=100, random_state=0)\n",
    "\n",
    "# Entrenar el modelo\n",
    "modelo_rf.fit(X_train, y_train)"
   ]
  },
  {
   "cell_type": "code",
   "execution_count": null,
   "metadata": {},
   "outputs": [],
   "source": [
    "# Predecir en el conjunto de prueba\n",
    "y_pred_rf = modelo_rf.predict(X_test)\n",
    "\n",
    "# Evaluar el modelo\n",
    "accuracy_rf = accuracy_score(y_test, y_pred_rf)\n",
    "print(\"Precisión:\", accuracy_rf)\n",
    "\n",
    "print(\"Reporte de clasificación:\")\n",
    "print(classification_report(y_test, y_pred_rf))\n",
    "\n",
    "print(\"Matriz de confusión:\")\n",
    "print(confusion_matrix(y_test, y_pred_rf))"
   ]
  },
  {
   "cell_type": "code",
   "execution_count": null,
   "metadata": {},
   "outputs": [],
   "source": [
    "# Visualizar la importancia de las características\n",
    "importances_rf = modelo_rf.feature_importances_\n",
    "features = X.columns\n",
    "indices_rf = np.argsort(importances_rf)[::-1]\n",
    "\n",
    "plt.figure(figsize=(8, 6))\n",
    "plt.title('Importancia de las características')\n",
    "plt.bar(range(X.shape[1]), importances_rf[indices_rf], align='center')\n",
    "plt.xticks(range(X.shape[1]), [features[i] for i in indices_rf])\n",
    "plt.show()"
   ]
  }
 ],
 "metadata": {
  "kernelspec": {
   "display_name": "Python 3",
   "language": "python",
   "name": "python3"
  },
  "language_info": {
   "codemirror_mode": {
    "name": "ipython",
    "version": 3
   },
   "file_extension": ".py",
   "mimetype": "text/x-python",
   "name": "python",
   "nbconvert_exporter": "python",
   "pygments_lexer": "ipython3",
   "version": "3.11.4"
  },
  "orig_nbformat": 4
 },
 "nbformat": 4,
 "nbformat_minor": 2
}
