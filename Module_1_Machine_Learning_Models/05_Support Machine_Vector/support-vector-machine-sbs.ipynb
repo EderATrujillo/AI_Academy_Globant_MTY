{
 "cells": [
  {
   "cell_type": "markdown",
   "metadata": {},
   "source": [
    "Máquinas de vectores de soporte (SVM)\n",
    "\n",
    "Se utilizan principalmente en problemas de clasificación. El objetivo principal de una SVM es encontrar el hiperplano en un espacio de múltiples dimensiones que mejor separa las distintas clases de datos. Un hiperplano es una subvariedad de un espacio de mayor dimensión (en un espacio tridimensional, sería un plano; en un espacio bidimensional, sería una línea).\n",
    "\n",
    "EJEMPLOS DE USO:\n",
    "Clasificación de Imágenes: Una SVM puede ser entrenada para distinguir entre diferentes tipos de objetos en imágenes. Por ejemplo, se puede entrenar una SVM para clasificar imágenes de gatos y perros utilizando características extraídas de las imágenes, como texturas y formas. Con este mismo enfoque podemos tambièn realizar reconocimienot facial"
   ]
  },
  {
   "cell_type": "code",
   "execution_count": null,
   "metadata": {},
   "outputs": [],
   "source": [
    "!pip3 install numpy pandas matplotlib scikit-learn imbalanced-learn"
   ]
  },
  {
   "cell_type": "code",
   "execution_count": null,
   "metadata": {},
   "outputs": [],
   "source": [
    "import numpy as np\n",
    "import pandas as pd\n",
    "import matplotlib.pyplot as plt\n",
    "from sklearn.model_selection import train_test_split\n",
    "from sklearn.preprocessing import LabelEncoder, StandardScaler\n",
    "from sklearn.svm import SVC\n",
    "from sklearn.metrics import accuracy_score, classification_report, confusion_matrix\n",
    "from imblearn.over_sampling import SMOTE\n",
    "from imblearn.pipeline import Pipeline\n",
    "\n",
    "print(\"Todas las bibliotecas se importaron correctamente.\")"
   ]
  },
  {
   "cell_type": "code",
   "execution_count": null,
   "metadata": {},
   "outputs": [],
   "source": [
    "# Generar datos sintéticos para segmentación de mercado\n",
    "np.random.seed(0)\n",
    "n = 200\n",
    "\n",
    "edad = np.random.randint(18, 70, n)\n",
    "ingreso = np.random.randint(20000, 120000, n)\n",
    "genero = np.random.choice(['M', 'F'], n)\n",
    "compra = np.random.choice(['Sí', 'No'], n)\n",
    "\n",
    "# Crear DataFrame\n",
    "data = pd.DataFrame({\n",
    "    'Edad': edad,\n",
    "    'Ingreso Anual': ingreso,\n",
    "    'Género': genero,\n",
    "    'Compra': compra\n",
    "})\n",
    "\n",
    "# Guardar a CSV\n",
    "data.to_csv('segmentacion_mercado.csv', index=False)"
   ]
  },
  {
   "cell_type": "code",
   "execution_count": null,
   "metadata": {},
   "outputs": [],
   "source": [
    "# Cargar datos\n",
    "data = pd.read_csv('segmentacion_mercado.csv')\n",
    "\n",
    "# Mostrar las primeras filas\n",
    "print(data.head())\n",
    "print(data.describe())"
   ]
  },
  {
   "cell_type": "code",
   "execution_count": null,
   "metadata": {},
   "outputs": [],
   "source": [
    "# Distribución de compra\n",
    "plt.hist(data['Compra'])\n",
    "plt.xlabel('Compra')\n",
    "plt.ylabel('Frecuencia')\n",
    "plt.title('Distribución de Compra')\n",
    "plt.show()\n",
    "\n",
    "# Codificar las variables categóricas\n",
    "label_encoder = LabelEncoder()\n",
    "data['Género'] = label_encoder.fit_transform(data['Género'])\n",
    "data['Compra'] = label_encoder.fit_transform(data['Compra'])"
   ]
  },
  {
   "cell_type": "code",
   "execution_count": null,
   "metadata": {},
   "outputs": [],
   "source": [
    "# Características que vamos a tener en cuenta para entrenar el modelo\n",
    "X = data[['Edad', 'Ingreso Anual', 'Género']]\n",
    "\n",
    "# Objetivo, saber la probabilidad de si alguien con ciertas características va a comprar\n",
    "y = data['Compra']\n",
    "\n",
    "# Normalizar los datos\n",
    "scaler = StandardScaler()\n",
    "X_scaled = scaler.fit_transform(X)\n",
    "\n",
    "# Dividir en conjuntos de entrenamiento y prueba\n",
    "X_train, X_test, y_train, y_test = train_test_split(X_scaled, y, test_size=0.2, random_state=0)"
   ]
  },
  {
   "cell_type": "code",
   "execution_count": null,
   "metadata": {},
   "outputs": [],
   "source": [
    "# Crear el modelo SVM\n",
    "modelo_svm = SVC(kernel='rbf', random_state=0, probability=True)\n",
    "\n",
    "# Entrenar el modelo\n",
    "modelo_svm.fit(X_train, y_train)\n"
   ]
  },
  {
   "cell_type": "code",
   "execution_count": null,
   "metadata": {},
   "outputs": [],
   "source": [
    "# Predecir en el conjunto de prueba\n",
    "y_pred_svm = modelo_svm.predict(X_test)\n",
    "\n",
    "# Evaluar el modelo\n",
    "accuracy_svm = accuracy_score(y_test, y_pred_svm)\n",
    "print(\"Precisión:\", accuracy_svm)\n",
    "\n",
    "print(\"Reporte de clasificación:\")\n",
    "print(classification_report(y_test, y_pred_svm))\n",
    "\n",
    "print(\"Matriz de confusión:\")\n",
    "print(confusion_matrix(y_test, y_pred_svm))"
   ]
  },
  {
   "cell_type": "code",
   "execution_count": null,
   "metadata": {},
   "outputs": [],
   "source": [
    "# Visualizar la frontera de decisión (solo para propósitos de visualización)\n",
    "def plot_decision_boundary(X, y, model, title='Frontera de decisión del SVM'):\n",
    "    x_min, x_max = X[:, 0].min() - 1, X[:, 0].max() + 1\n",
    "    y_min, y_max = X[:, 1].min() - 1, X[:, 1].max() + 1\n",
    "    h = (x_max - x_min) / 100\n",
    "    xx, yy = np.meshgrid(np.arange(x_min, x_max, h),\n",
    "                         np.arange(y_min, y_max, h))\n",
    "    Z = model.predict(np.c_[xx.ravel(), yy.ravel()])\n",
    "    Z = Z.reshape(xx.shape)\n",
    "    plt.contourf(xx, yy, Z, alpha=0.3)\n",
    "    plt.scatter(X[:, 0], X[:, 1], c=y, edgecolor='k', marker='o')\n",
    "    plt.xlabel('Edad')\n",
    "    plt.ylabel('Ingreso Anual')\n",
    "    plt.title(title)\n",
    "    plt.show()\n",
    "\n",
    "# Reducir dimensionalidad para visualización\n",
    "from sklearn.decomposition import PCA\n",
    "pca = PCA(n_components=2)\n",
    "X_pca = pca.fit_transform(X_scaled)\n",
    "X_train_pca = pca.transform(X_train)\n",
    "X_test_pca = pca.transform(X_test)\n",
    "\n",
    "# Entrenar y graficar con datos reducidos\n",
    "modelo_svm_pca = SVC(kernel='rbf', random_state=0, probability=True)\n",
    "modelo_svm_pca.fit(X_train_pca, y_train)\n",
    "\n",
    "plot_decision_boundary(X_test_pca, y_test, modelo_svm_pca)"
   ]
  }
 ],
 "metadata": {
  "kernelspec": {
   "display_name": "Python 3",
   "language": "python",
   "name": "python3"
  },
  "language_info": {
   "codemirror_mode": {
    "name": "ipython",
    "version": 3
   },
   "file_extension": ".py",
   "mimetype": "text/x-python",
   "name": "python",
   "nbconvert_exporter": "python",
   "pygments_lexer": "ipython3",
   "version": "3.11.4"
  },
  "orig_nbformat": 4
 },
 "nbformat": 4,
 "nbformat_minor": 2
}
