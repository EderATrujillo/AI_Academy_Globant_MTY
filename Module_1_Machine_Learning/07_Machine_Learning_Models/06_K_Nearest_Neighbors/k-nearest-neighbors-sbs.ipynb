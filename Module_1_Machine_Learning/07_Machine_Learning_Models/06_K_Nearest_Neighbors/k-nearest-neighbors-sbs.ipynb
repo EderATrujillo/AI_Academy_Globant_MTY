{
 "cells": [
  {
   "cell_type": "markdown",
   "metadata": {},
   "source": [
    "### **K-Nearest Neighbors (KNN)**\n",
    "\n",
    "It is a widely used algorithm in AI, especially for classification and regression tasks. It is used with a dataset that has already been classified into different categories, KNN is used to classify a new data point based on its nearest neighbors in the dataset.\n",
    "\n",
    "`Steps to follow:`\n",
    "<br>\n",
    "Select the value of K: K represents the number of nearest neighbors that will be considered for classification.<br>\n",
    "Calculate the distance: Calculate the distance between the new data point and each point in the dataset.<br>\n",
    "Identify the nearest neighbors: Select the K nearest points to the new data point.<br>\n",
    "Assign a class: Assign the most common class among its K nearest neighbors to the new data point.<br>\n",
    "\n",
    "`USAGE EXAMPLES`\n",
    "<br>\n",
    "Product Recommendation: An e-commerce website could use KNN to recommend products to a user based on products they have previously purchased or viewed."
   ]
  },
  {
   "cell_type": "code",
   "execution_count": null,
   "metadata": {},
   "outputs": [],
   "source": [
    "!pip3 install numpy pandas matplotlib scikit-learn imbalanced-learn"
   ]
  },
  {
   "cell_type": "code",
   "execution_count": null,
   "metadata": {},
   "outputs": [],
   "source": [
    "import numpy as np\n",
    "import pandas as pd\n",
    "import matplotlib.pyplot as plt\n",
    "from sklearn.datasets import load_iris\n",
    "from sklearn.model_selection import train_test_split\n",
    "from sklearn.preprocessing import StandardScaler\n",
    "from sklearn.decomposition import PCA\n",
    "from sklearn.neighbors import KNeighborsClassifier\n",
    "from sklearn.metrics import accuracy_score, confusion_matrix, classification_report"
   ]
  },
  {
   "cell_type": "code",
   "execution_count": null,
   "metadata": {},
   "outputs": [],
   "source": [
    "iris = load_iris()\n",
    "X = iris.data  # Using all four features\n",
    "y = iris.target\n",
    "\n",
    "# Create a DataFrame for better visualization\n",
    "df = pd.DataFrame(X, columns=iris.feature_names)\n",
    "df['target'] = y\n",
    "df.head()"
   ]
  },
  {
   "cell_type": "code",
   "execution_count": null,
   "metadata": {},
   "outputs": [],
   "source": [
    "# Normalize the data\n",
    "scaler = StandardScaler()\n",
    "X_scaled = scaler.fit_transform(X)\n",
    "\n",
    "# Show the first rows of scaled data\n",
    "pd.DataFrame(X_scaled, columns=iris.feature_names).head()\n",
    "\n",
    "# Split the data into training and test sets\n",
    "X_train, X_test, y_train, y_test = train_test_split(X_scaled, y, test_size=0.3, random_state=42)"
   ]
  },
  {
   "cell_type": "code",
   "execution_count": null,
   "metadata": {},
   "outputs": [],
   "source": [
    "# Define the KNN model\n",
    "knn = KNeighborsClassifier(n_neighbors=5)\n",
    "\n",
    "# Train the model\n",
    "knn.fit(X_train, y_train)"
   ]
  },
  {
   "cell_type": "code",
   "execution_count": null,
   "metadata": {},
   "outputs": [],
   "source": [
    "# Predict with the test set\n",
    "y_pred = knn.predict(X_test)\n",
    "\n",
    "# Evaluate accuracy\n",
    "accuracy = accuracy_score(y_test, y_pred)\n",
    "print(f'Accuracy: {accuracy:.2f}')\n",
    "\n",
    "# Confusion matrix\n",
    "conf_matrix = confusion_matrix(y_test, y_pred)\n",
    "print('Confusion Matrix:\\n', conf_matrix)\n",
    "\n",
    "# Classification report\n",
    "class_report = classification_report(y_test, y_pred, target_names=iris.target_names)\n",
    "print('Classification Report:\\n', class_report)"
   ]
  },
  {
   "cell_type": "code",
   "execution_count": null,
   "metadata": {},
   "outputs": [],
   "source": [
    "# Apply PCA to reduce dimensionality to 2D for visualization\n",
    "pca = PCA(n_components=2)\n",
    "X_pca = pca.fit_transform(X_scaled)\n",
    "\n",
    "# Train KNN model again with transformed data for visualization\n",
    "X_train_pca, X_test_pca, _, _ = train_test_split(X_pca, y, test_size=0.3, random_state=42)\n",
    "knn_pca = KNeighborsClassifier(n_neighbors=5)\n",
    "knn_pca.fit(X_train_pca, y_train)\n",
    "\n",
    "# Create a mesh grid to draw decision boundaries\n",
    "x_min, x_max = X_pca[:, 0].min() - 1, X_pca[:, 0].max() + 1\n",
    "y_min, y_max = X_pca[:, 1].min() - 1, X_pca[:, 1].max() + 1\n",
    "xx, yy = np.meshgrid(np.arange(x_min, x_max, 0.01), np.arange(y_min, y_max, 0.01))\n",
    "\n",
    "# Predict across the entire mesh\n",
    "Z = knn_pca.predict(np.c_[xx.ravel(), yy.ravel()])\n",
    "Z = Z.reshape(xx.shape)\n",
    "\n",
    "# Plot the contour and points\n",
    "plt.figure(figsize=(8, 6))\n",
    "plt.contourf(xx, yy, Z, alpha=0.3, cmap=plt.cm.RdYlBu)\n",
    "scatter = plt.scatter(X_pca[:, 0], X_pca[:, 1], c=y, s=30, edgecolor='k', cmap=plt.cm.RdYlBu)\n",
    "\n",
    "# Add labels\n",
    "plt.xlabel('Principal Component 1')\n",
    "plt.ylabel('Principal Component 2')\n",
    "plt.title('KNN: Decision Boundary (PCA)')\n",
    "\n",
    "print(scatter.legend_elements()[0])\n",
    "# plt.legend(handles=scatter.legend_elements()[0], labels=iris.target_names)\n",
    "plt.show()"
   ]
  },
  {
   "cell_type": "code",
   "execution_count": null,
   "metadata": {},
   "outputs": [],
   "source": [
    "# Import necessary libraries\n",
    "import numpy as np\n",
    "import pandas as pd\n",
    "from sklearn.neighbors import NearestNeighbors\n",
    "\n",
    "# Create example dataset\n",
    "products = {\n",
    "    'Product': ['Laptop', 'Phone', 'Tablet', 'Smartwatch', 'Headphones', 'TV'],\n",
    "    'Price': [1000, 800, 500, 300, 200, 150],\n",
    "    'Popularity': [10, 8, 6, 4, 2, 1]\n",
    "}\n",
    "df_products = pd.DataFrame(products)\n",
    "\n",
    "# Create example user purchase dataset\n",
    "user_purchases = {\n",
    "    'Product': ['Laptop', 'Phone', 'Headphones']\n",
    "}\n",
    "df_user_purchases = pd.DataFrame(user_purchases)\n",
    "\n",
    "# Define a function to recommend products to the user using KNN\n",
    "def recommend_products(df_products, df_user_purchases, k=3):\n",
    "    # Data preprocessing\n",
    "    X = df_products[['Price', 'Popularity']]\n",
    "    y = df_products['Product']\n",
    "    X_user = df_user_purchases.merge(df_products, on='Product', how='left')[['Price', 'Popularity']].fillna(0)\n",
    "    \n",
    "    # Train the KNN model\n",
    "    knn_model = NearestNeighbors(n_neighbors=k)\n",
    "    \n",
    "    knn_model.fit(X)\n",
    "    \n",
    "    # Find the k nearest neighbors\n",
    "    _, indices = knn_model.kneighbors(X_user)\n",
    "    print(knn_model.kneighbors(X_user))\n",
    "    \n",
    "    # Show recommended products\n",
    "    print(\"Recommended Products:\")\n",
    "    for i in indices[0]:\n",
    "        print(\"- {}\".format(df_products.iloc[i]['Product']))\n",
    "\n",
    "# Call the product recommendation function\n",
    "recommend_products(df_products, df_user_purchases, k=3)"
   ]
  }
 ],
 "metadata": {
  "kernelspec": {
   "display_name": "Python 3",
   "language": "python",
   "name": "python3"
  },
  "language_info": {
   "codemirror_mode": {
    "name": "ipython",
    "version": 3
   },
   "file_extension": ".py",
   "mimetype": "text/x-python",
   "name": "python",
   "nbconvert_exporter": "python",
   "pygments_lexer": "ipython3",
   "version": "3.11.4"
  },
  "orig_nbformat": 4
 },
 "nbformat": 4,
 "nbformat_minor": 2
}
