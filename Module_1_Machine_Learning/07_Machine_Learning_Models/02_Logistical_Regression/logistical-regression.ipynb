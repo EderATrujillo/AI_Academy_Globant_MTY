{
 "cells": [
  {
   "cell_type": "markdown",
   "metadata": {},
   "source": [
    "### **Linear and Logistic Regression**\n",
    "\n",
    "In the context of AI and machine learning, both linear and logistic regression are essential techniques. They are used to train predictive models from historical data, which can then make predictions or classifications on new data."
   ]
  },
  {
   "cell_type": "markdown",
   "metadata": {},
   "source": [
    "Logistic regression is used to model the relationship between two or more variables (1 dependent and 1 or more independent). The main difference between logistic and linear regression is that the dependent variable in logistic regression is binary (yes or no). The most common examples of its use are predictions or trends.\n",
    "\n",
    "In the case of predicting house prices, we can consider different independent variables:\n",
    "\n",
    "- Number of rooms\n",
    "- Square meters\n",
    "- Number of floors\n",
    "\n",
    "The dependent variable could be whether the house price is expensive or not, making our dependent variable binary.\n",
    "\n",
    "Logistic regression helps us in this case to predict if the house price is very high or not. Based on these variables, we analyze a certain amount of data (the more, the better) to find a relationship and answer the question of whether the price is high or not.\n",
    "\n",
    "In the following exercise, we can see how dependent and independent variables work, the division between training and test data, and also see the model's result and the accuracy of the predictions.\n",
    "\n"
   ]
  },
  {
   "cell_type": "code",
   "execution_count": null,
   "metadata": {},
   "outputs": [],
   "source": [
    "!pip3 install numpy pandas matplotlib scikit-learn"
   ]
  },
  {
   "cell_type": "code",
   "execution_count": null,
   "metadata": {},
   "outputs": [],
   "source": [
    "# Import libraries\n",
    "import numpy as np\n",
    "import pandas as pd\n",
    "import matplotlib.pyplot as plt\n",
    "from sklearn.linear_model import LogisticRegression\n",
    "from sklearn.model_selection import train_test_split\n",
    "from sklearn.metrics import confusion_matrix, classification_report, accuracy_score\n",
    "\n",
    "print(\"All libraries imported successfully.\")"
   ]
  },
  {
   "cell_type": "code",
   "execution_count": null,
   "metadata": {},
   "outputs": [],
   "source": [
    "# Generate synthetic data\n",
    "np.random.seed(0)\n",
    "n = 100\n",
    "\n",
    "# Specify size from 500 to 3500 m² and generate n records, where n = 100\n",
    "size = np.random.randint(500, 3500, n)\n",
    "\n",
    "# Specify number of rooms between 1 and 5 and generate n records, where n = 100\n",
    "rooms = np.random.randint(1, 5, n)\n",
    "\n",
    "# 50,000 base price, add extra for rooms and m²\n",
    "# Multiply size by 50, meaning each m² increases the house's value by 50 units (currency)\n",
    "# Multiply number of rooms by 10,000, meaning each extra room increases the house's value by 10,000 units\n",
    "# Generate an array of n (100) numbers, simulating the house value depending on the market\n",
    "price = 50000 + (size * 50) + (rooms * 10000) + (np.random.randn(n) * 10000)\n",
    "\n",
    "# Binary classification: 1 if price is greater than 200000, 0 otherwise\n",
    "is_expensive = (price > 200000).astype(int)\n",
    "\n",
    "# Create DataFrame\n",
    "data = pd.DataFrame({\n",
    "    'Size (square feet)': size,\n",
    "    'Rooms': rooms,\n",
    "    'Price': price,\n",
    "    'Is expensive': is_expensive\n",
    "})\n",
    "\n",
    "# Save to CSV\n",
    "data.to_csv('house_classification.csv', index=False)"
   ]
  },
  {
   "cell_type": "code",
   "execution_count": null,
   "metadata": {},
   "outputs": [],
   "source": [
    "# Load data\n",
    "data = pd.read_csv('house_classification.csv')\n",
    "\n",
    "# Show the first rows\n",
    "print(data.head())\n",
    "\n",
    "# Descriptive statistics\n",
    "# count: non-null values\n",
    "# mean: average (sum of the values of each column divided by number of rows)\n",
    "# std: standard deviation\n",
    "# min: minimum value per column\n",
    "# 25%: 25% of the houses are below these values\n",
    "# 50%: 50% of the houses are below these values\n",
    "# 75%: 75% of the houses are below these values\n",
    "# max: maximum value per column\n",
    "print(data.describe())"
   ]
  },
  {
   "cell_type": "code",
   "execution_count": null,
   "metadata": {},
   "outputs": [],
   "source": [
    "# Relationship between size and if it is expensive\n",
    "plt.scatter(data['Size (square feet)'], data['Is expensive'])\n",
    "plt.xlabel('Size (square feet)')\n",
    "plt.ylabel('Is expensive')\n",
    "plt.title('Relationship between Size and if it is Expensive')\n",
    "plt.show()\n",
    "\n",
    "# Relationship between rooms and if it is expensive\n",
    "plt.scatter(data['Rooms'], data['Is expensive'])\n",
    "plt.xlabel('Rooms')\n",
    "plt.ylabel('Is expensive')\n",
    "plt.title('Relationship between Rooms and if it is Expensive')\n",
    "plt.show()\n",
    "\n",
    "# The following graphs show which houses are expensive (1) or not (0), depending on the independent variables (size and number of rooms respectively)"
   ]
  },
  {
   "cell_type": "code",
   "execution_count": null,
   "metadata": {},
   "outputs": [],
   "source": [
    "# train_test_split: used to split a dataset into two subsets, one for training and one for testing\n",
    "\n",
    "# independent variables\n",
    "X = data[['Size (square feet)', 'Rooms']]\n",
    "\n",
    "# dependent or target variables, in logistic regression must be binary 1 or 0\n",
    "y = data['Is expensive']\n",
    "\n",
    "# Split into training and test sets\n",
    "# X variables used for prediction\n",
    "# y variable we want to predict\n",
    "# test_size=0.2: indicates that we will use 20% of the data for the test set and 80% for the training set\n",
    "# Training set is used to train the model, it is used to teach the model the relationship between the patterns in the data (the more, the better)\n",
    "# Test set is used to compare the predictions and see how accurate they are\n",
    "X_train, X_test, y_train, y_test = train_test_split(X, y, test_size=0.2, random_state=0)"
   ]
  },
  {
   "cell_type": "code",
   "execution_count": null,
   "metadata": {},
   "outputs": [],
   "source": [
    "# Create the model\n",
    "model = LogisticRegression()\n",
    "\n",
    "# Train the model\n",
    "model.fit(X_train, y_train)\n",
    "\n",
    "# Model coefficients\n",
    "# Intercept: Represents the probability of whether a house is expensive or not when the m² and rooms are 0\n",
    "# Coefficients\n",
    "# Coefficient for Size (0.0117012): An increase of one square foot in the house size slightly increases \n",
    "# the probabilities of the house being classified as expensive, with an increase of approximately 1.17% \n",
    "# in the probabilities for each additional square foot.\n",
    "# Coefficient for Rooms (1.30764309): An increase of one room in the house significantly\n",
    "# increases the probabilities of the house being classified as expensive, multiplying the probabilities by\n",
    "# approximately 3.697 (or increasing the probabilities by 269.7%) for each additional room.\n",
    "print(\"Intercept:\", model.intercept_)\n",
    "print(\"Coefficients:\", model.coef_)"
   ]
  },
  {
   "cell_type": "code",
   "execution_count": null,
   "metadata": {},
   "outputs": [],
   "source": [
    "# Predict on the test set\n",
    "y_pred = model.predict(X_test)\n",
    "\n",
    "# Evaluate the model\n",
    "# Confusion Matrix: shows the performance of the classification model by comparing the model's predictions \n",
    "# with the true (real) values of the test data.\n",
    "\n",
    "# [[12  0]\n",
    "# [ 2  6]]\n",
    "# Confusion matrix:\n",
    "# True Positives (TP): 6 (number of times the model correctly predicted that a house is expensive).\n",
    "# True Negatives (TN): 12 (number of times the model correctly predicted that a house is not expensive).\n",
    "# False Positives (FP): 0 (number of times the model incorrectly predicted that a house is expensive when it is not).\n",
    "# False Negatives (FN): 2 (number of times the model incorrectly predicted that a house is not expensive when it actually is).\n",
    "\n",
    "# Classification Report:\n",
    "#    class   precision  recall   f1-score   support\n",
    "#      0       0.86      1.00      0.92        12\n",
    "#      1       1.00      0.75      0.86         8\n",
    "\n",
    "# Class 0 (not expensive):\n",
    "# Precision: 0.86 (86% of the predictions that a house is not expensive were correct).\n",
    "# Recall: 1.00 (the model correctly identified 100% of the houses that are not expensive).\n",
    "# F1-score: 0.92 (the mean of precision and recall).\n",
    "\n",
    "# Class 1 (expensive):\n",
    "# Precision: 1.00 (100% of the predictions that a house is expensive were correct).\n",
    "# Recall: 0.75 (the model correctly identified 75% of the houses that are expensive).\n",
    "# F1-score: 0.86 (the mean of precision and recall).\n",
    "\n",
    "conf_matrix = confusion_matrix(y_test, y_pred)\n",
    "class_report = classification_report(y_test, y_pred)\n",
    "accuracy = accuracy_score(y_test, y_pred)\n",
    "\n",
    "print(\"Confusion Matrix:\\n\", conf_matrix)\n",
    "print(\"Classification Report:\\n\", class_report)\n",
    "print(\"Accuracy:\", accuracy)"
   ]
  },
  {
   "cell_type": "code",
   "execution_count": null,
   "metadata": {},
   "outputs": [],
   "source": [
    "# Visualize the confusion matrix\n",
    "# The following graph provides a visual representation of the confusion matrix, where\n",
    "# using the color code, we can more quickly see the precision, where:\n",
    "# [TN  FP]\n",
    "# [FN  TP]\n",
    "# True Positives (TP): 6 (number of times the model correctly predicted that a house is expensive).\n",
    "# True Negatives (TN): 12 (number of times the model correctly predicted that a house is not expensive).\n",
    "# False Positives (FP): 0 (number of times the model incorrectly predicted that a house is expensive when it is not).\n",
    "# False Negatives (FN): 2 (number of times the model incorrectly predicted that a house is not expensive when it actually is).\n",
    "plt.matshow(conf_matrix, cmap=plt.cm.Blues)\n",
    "plt.title('Confusion Matrix')\n",
    "plt.colorbar()\n",
    "plt.ylabel('True Label')\n",
    "plt.xlabel('Predicted Label')\n",
    "plt.show()"
   ]
  }
 ],
 "metadata": {
  "kernelspec": {
   "display_name": "Python 3",
   "language": "python",
   "name": "python3"
  },
  "language_info": {
   "codemirror_mode": {
    "name": "ipython",
    "version": 3
   },
   "file_extension": ".py",
   "mimetype": "text/x-python",
   "name": "python",
   "nbconvert_exporter": "python",
   "pygments_lexer": "ipython3",
   "version": "3.11.4"
  },
  "orig_nbformat": 4
 },
 "nbformat": 4,
 "nbformat_minor": 2
}
