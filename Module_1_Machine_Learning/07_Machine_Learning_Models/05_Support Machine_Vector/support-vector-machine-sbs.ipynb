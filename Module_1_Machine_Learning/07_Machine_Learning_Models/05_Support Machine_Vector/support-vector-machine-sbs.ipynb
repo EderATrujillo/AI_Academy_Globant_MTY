{
 "cells": [
  {
   "cell_type": "markdown",
   "metadata": {},
   "source": [
    "### **Support Vector Machines (SVM)**\n",
    "\n",
    "They are mainly used in classification problems. The main goal of an `SVM` is to find the hyperplane in a multi-dimensional space that best separates different classes of data. <br /><br />\n",
    "A hyperplane is a submanifold of a higher-dimensional space (in a three-dimensional space, it would be a plane; in a two-dimensional space, it would be a line).\n",
    "\n",
    "`USAGE EXAMPLES:`<br />\n",
    "Image Classification: An SVM can be trained to distinguish between different types of objects in images.<br>\n",
    "\n",
    "For example, an SVM can be trained to classify images of cats and dogs using features extracted from the images, such as textures and shapes.<br>\n",
    "With this same approach we can also carry out facial recognition"
   ]
  },
  {
   "cell_type": "code",
   "execution_count": null,
   "metadata": {},
   "outputs": [],
   "source": [
    "!pip3 install numpy pandas matplotlib scikit-learn opencv-python"
   ]
  },
  {
   "cell_type": "code",
   "execution_count": null,
   "metadata": {},
   "outputs": [],
   "source": [
    "# Import libraries\n",
    "import numpy as np\n",
    "import matplotlib.pyplot as plt\n",
    "from sklearn import datasets\n",
    "from sklearn.model_selection import train_test_split\n",
    "from sklearn.preprocessing import StandardScaler\n",
    "from sklearn.svm import SVC\n",
    "from sklearn.metrics import classification_report, confusion_matrix\n",
    "from sklearn.utils import Bunch"
   ]
  },
  {
   "cell_type": "code",
   "execution_count": null,
   "metadata": {},
   "outputs": [],
   "source": [
    "# Load sample image dataset\n",
    "# We can try different datasets integrated in sklearn\n",
    "# as long as they return a list\n",
    "from sklearn.datasets import load_sample_images\n",
    "\n",
    "dataset = load_sample_images()\n",
    "images = dataset.images\n",
    "\n",
    "# Function to extract features from an image\n",
    "# Here we divide the image into a grid to obtain colors\n",
    "# to identify regions or features\n",
    "def extract_features(image, grid_size=(10, 10)):\n",
    "    height, width, _ = image.shape\n",
    "    features = []\n",
    "    for row in range(0, height, grid_size[0]):\n",
    "        for col in range(0, width, grid_size[1]):\n",
    "            region = image[row:row + grid_size[0], col:col + grid_size[1]]\n",
    "            avg_color = np.mean(region, axis=(0, 1))\n",
    "            features.append(avg_color)\n",
    "    return np.array(features)\n",
    "\n",
    "# Extract features from images\n",
    "X = []\n",
    "y = []\n",
    "for idx, image in enumerate(images):\n",
    "    features = extract_features(image)\n",
    "    X.append(features)\n",
    "    y.append(np.full(features.shape[0], idx))  # Label each region of the image with the image index\n",
    "\n",
    "# Convert lists to numpy arrays\n",
    "X = np.vstack(X)\n",
    "y = np.concatenate(y)\n",
    "\n",
    "# print(X)\n",
    "# print(y)"
   ]
  },
  {
   "cell_type": "code",
   "execution_count": null,
   "metadata": {},
   "outputs": [],
   "source": [
    "# Split into training and test sets\n",
    "# X variables used for prediction\n",
    "# y variable we want to predict\n",
    "# test_size=0.2: indicates using 20% of data for test set and 80% for training set\n",
    "# Training set is used to train the model, teaching the model the relationship between patterns in the data (more is better)\n",
    "# Test set is used to compare predictions and see how accurate they are\n",
    "# random_state: used to control how random data is split. If two people run the same function with the same random_state value,\n",
    "#   they will get exactly the same data split (test and training).\n",
    "# X_train, X_test, y_train, y_test = train_test_split(X, y, test_size=0.3, random_state=0)\n",
    "X_train, X_test, y_train, y_test = train_test_split(X, y, test_size=0.3, random_state=42)"
   ]
  },
  {
   "cell_type": "code",
   "execution_count": null,
   "metadata": {},
   "outputs": [],
   "source": [
    "scaler = StandardScaler()\n",
    "X_train = scaler.fit_transform(X_train)\n",
    "X_test = scaler.transform(X_test)\n",
    "\n",
    "# Train the SVM model\n",
    "# linear’, ‘poly’, ‘rbf’, ‘sigmoid’, ‘precomputed’\n",
    "svm = SVC(kernel='rbf')\n",
    "svm.fit(X_train, y_train)\n",
    "\n",
    "# Make predictions\n",
    "y_pred = svm.predict(X_test)"
   ]
  },
  {
   "cell_type": "code",
   "execution_count": null,
   "metadata": {},
   "outputs": [],
   "source": [
    "# Evaluate the model\n",
    "\n",
    "# Confusion matrix\n",
    "# TP (True Positives): Correct predictions where the model predicts the correct positive class.\n",
    "# FP (False Positives): Incorrect predictions where the model predicts the positive class but the instance is negative.\n",
    "# FN (False Negatives): Incorrect predictions where the model predicts the negative class but the instance is positive.\n",
    "# TN (True Negatives): Correct predictions where the model predicts the correct negative class.\n",
    "#\n",
    "#                   Predicted Positive\t   Predicted Negative\n",
    "# Actual Positive\t        TP\t                    FN\n",
    "# Actual Negative\t        FP                      TN\n",
    "print(\"Confusion Matrix\")\n",
    "print(confusion_matrix(y_test, y_pred))\n",
    "\n",
    "# Precision: The ratio of true positives to the total predicted positives (TP / (TP + FP)).\n",
    "# Recall: The ratio of true positives to the total actual positives (TP / (TP + FN)).\n",
    "# F1 Score: The harmonic mean of precision and recall, providing a balance between both metrics (2 * (Precision * Recall) / (Precision + Recall)).\n",
    "# Support: The number of actual occurrences of the class in the data.\n",
    "print(\"Classification Report\")\n",
    "print(classification_report(y_test, y_pred))"
   ]
  },
  {
   "cell_type": "code",
   "execution_count": null,
   "metadata": {},
   "outputs": [],
   "source": [
    "# The following code shows us the selected image with the previously plotted grid\n",
    "# and some patterns detected by the SVM (based on color)\n",
    "# This can help us to detect objects in images\n",
    "import cv2\n",
    "def visualize_predictions(image, model, grid_size=(10, 10)):\n",
    "    features = extract_features(image, grid_size)\n",
    "    features = scaler.transform(features)\n",
    "    predictions = model.predict(features)\n",
    "    height, width, _ = image.shape\n",
    "    result = image.copy()\n",
    "    for idx, (row, col) in enumerate([(i, j) for i in range(0, height, grid_size[0]) for j in range(0, width, grid_size[1])]):\n",
    "        color = (0, 255, 0) if predictions[idx] == 0 else (0, 0, 255)\n",
    "        cv2.rectangle(result, (col, row), (col + grid_size[1], row + grid_size[0]), color, 1)\n",
    "    plt.imshow(result)\n",
    "    plt.title('Predictions on the Image')\n",
    "    plt.show()\n",
    "\n",
    "# Visualize predictions on the first image\n",
    "visualize_predictions(images[1], svm)"
   ]
  }
 ],
 "metadata": {
  "kernelspec": {
   "display_name": "Python 3",
   "language": "python",
   "name": "python3"
  },
  "language_info": {
   "codemirror_mode": {
    "name": "ipython",
    "version": 3
   },
   "file_extension": ".py",
   "mimetype": "text/x-python",
   "name": "python",
   "nbconvert_exporter": "python",
   "pygments_lexer": "ipython3",
   "version": "3.11.4"
  },
  "orig_nbformat": 4
 },
 "nbformat": 4,
 "nbformat_minor": 2
}
