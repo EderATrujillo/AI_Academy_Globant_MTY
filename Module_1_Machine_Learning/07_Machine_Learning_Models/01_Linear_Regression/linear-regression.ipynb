{
 "cells": [
  {
   "cell_type": "markdown",
   "metadata": {},
   "source": [
    "### **Linear and Logistic Regression**\n",
    "\n",
    "In the context of AI and machine learning, both linear and logistic regression are essential techniques. They are used to train predictive models from historical data, which can then make predictions or classifications on new data."
   ]
  },
  {
   "cell_type": "markdown",
   "metadata": {},
   "source": [
    "### **Regresion Lineal**\n",
    "\n",
    "It is used to model the relationship between two or more variables (1 dependent and 1 or more independent). The most common examples of use are predictions or trends.\n",
    "\n",
    "In the case of predicting house prices, we can consider different independent variables:\n",
    "\n",
    "- Number of rooms\n",
    "- Square meters\n",
    "- Number of floors\n",
    "\n",
    "The dependent variable could be the price, which will depend on other factors such as the current market value, location, etc.\n",
    "\n",
    "Linear regression is useful in this case to predict the house price. Based on these variables, it will analyze a certain amount of data (the more, the better) to find a relationship and be able to predict the house price accurately.\n",
    "\n",
    "In the following exercise, we can see how the dependent and independent variables work, the division between training and test data, and also see the model's result and the accuracy of the predictions."
   ]
  },
  {
   "cell_type": "code",
   "execution_count": null,
   "metadata": {},
   "outputs": [],
   "source": [
    "!pip3 install numpy pandas matplotlib scikit-learn"
   ]
  },
  {
   "cell_type": "code",
   "execution_count": null,
   "metadata": {},
   "outputs": [],
   "source": [
    "import numpy as np\n",
    "import pandas as pd\n",
    "import matplotlib.pyplot as plt\n",
    "from sklearn.linear_model import LinearRegression\n",
    "from sklearn.model_selection import train_test_split\n",
    "from sklearn.metrics import mean_squared_error, r2_score\n",
    "\n",
    "print(\"All libraries imported successfully.\")"
   ]
  },
  {
   "cell_type": "code",
   "execution_count": null,
   "metadata": {},
   "outputs": [],
   "source": [
    "# Generating data\n",
    "np.random.seed(0)\n",
    "n = 100\n",
    "\n",
    "# We specify that the size ranges from 500 to 3500 m2 and we need to generate n records, where n = 100\n",
    "size = np.random.randint(500, 3500, n)\n",
    "\n",
    "# We specify that the number of rooms is between 1 and 5 and we need to generate n records, where n = 100\n",
    "rooms = np.random.randint(1, 5, n)\n",
    "\n",
    "# 50,000 base price, we need to add the extra for rooms and m2\n",
    "# Multiply size by 50, meaning each m2 increases the house value by 50 units (currency)\n",
    "# Multiply the number of rooms by 10,000, meaning each extra room increases the house value by 10,000 units\n",
    "# Generate an array of n (100) numbers, simulating the house value depending on the market\n",
    "price = 50000 + (size * 50) + (rooms * 10000) + (np.random.randn(n) * 10000)\n",
    "\n",
    "# Create columns (headers) with their values\n",
    "data = pd.DataFrame({\n",
    "    'Size (square meters)': size,\n",
    "    'Rooms': rooms,\n",
    "    'Price': price\n",
    "})\n",
    "\n",
    "# Round all values to 0 decimals\n",
    "data = data.round(0)\n",
    "\n",
    "# Save to CSV\n",
    "data.to_csv('house_prices.csv', index=False)\n"
   ]
  },
  {
   "cell_type": "code",
   "execution_count": null,
   "metadata": {},
   "outputs": [],
   "source": [
    "# Load data\n",
    "data = pd.read_csv('house_prices.csv')\n",
    "\n",
    "# Display the first rows\n",
    "print(data.head())\n",
    "\n",
    "# Descriptive statistics\n",
    "# count: non-null values\n",
    "# mean: average (sum of the values in each column divided by the number of rows)\n",
    "# std: standard deviation\n",
    "# min: minimum value per column\n",
    "# 25%: 25% of the houses are below these values\n",
    "# 50%: 50% of the houses are below these values\n",
    "# 75%: 75% of the houses are below these values\n",
    "# max: maximum value per column\n",
    "print(data.describe())"
   ]
  },
  {
   "cell_type": "code",
   "execution_count": null,
   "metadata": {},
   "outputs": [],
   "source": [
    "# Relationship between size and price\n",
    "plt.scatter(data['Size (square meters)'], data['Price'])\n",
    "plt.xlabel('Size (square meters)')\n",
    "plt.ylabel('Price')\n",
    "plt.title('Relationship between Size and Price')\n",
    "plt.show()\n",
    "\n",
    "# Relationship between rooms and price\n",
    "plt.scatter(data['Rooms'], data['Price'])\n",
    "plt.xlabel('Rooms')\n",
    "plt.ylabel('Price')\n",
    "plt.title('Relationship between Rooms and Price')\n",
    "plt.show()\n",
    "\n",
    "# The following graphs show the relationship between house prices and size and number of rooms respectively"
   ]
  },
  {
   "cell_type": "code",
   "execution_count": null,
   "metadata": {},
   "outputs": [],
   "source": [
    "# train_test_split: used to split a dataset into two subsets, one for training and one for testing\n",
    "\n",
    "# independent variables\n",
    "X = data[['Size (square meters)', 'Rooms']]\n",
    "# dependent variable or target, what we want to predict\n",
    "y = data['Price']\n",
    "\n",
    "# Split into training and testing sets\n",
    "# X variables to be used for prediction\n",
    "# y variable we want to predict\n",
    "# test_size=0.2: indicates that we will use 20% of the data for the test set and 80% for the training set\n",
    "# Training set is used to train the model, used to teach the model the relationship between patterns in the data (the more, the better)\n",
    "# Test set is used to compare predictions with actual data and see how accurate they are.\n",
    "X_train, X_test, y_train, y_test = train_test_split(X, y, test_size=0.2, random_state=0)"
   ]
  },
  {
   "cell_type": "code",
   "execution_count": null,
   "metadata": {},
   "outputs": [],
   "source": [
    "# Create the model\n",
    "model = LinearRegression()\n",
    "\n",
    "# Train the model\n",
    "model.fit(X_train, y_train)\n",
    "\n",
    "# Model coefficients\n",
    "# Intercept: Represents the value of the house when the independent variables are 0\n",
    "# Coefficients: Indicate how much the price increases on AVERAGE depending on the independent variables (number of rooms and size)\n",
    "#   if the coefficients are positive, it means the price will increase, if they are negative, the price decreases\n",
    "print(\"Intercept:\", model.intercept_)\n",
    "print(\"Coefficients:\", model.coef_)"
   ]
  },
  {
   "cell_type": "code",
   "execution_count": null,
   "metadata": {},
   "outputs": [],
   "source": [
    "# Predict on the test set\n",
    "# Here we use the model we trained in the previous step to make predictions based on the previously created test sets (X_test)\n",
    "# The predict method generates the model's predictions for these inputs, and the result is saved in y_pred.\n",
    "y_pred = model.predict(X_test)\n",
    "\n",
    "# Evaluate the model\n",
    "# The MSE measures the mean of the squared errors, that is, the average squared difference between the actual and predicted values.\n",
    "# A lower MSE indicates that the model is making predictions closer to the actual values.\n",
    "mse = mean_squared_error(y_test, y_pred)\n",
    "\n",
    "# The r2 tells us what proportion of the variability in the variable you are trying to predict (house price) is explained\n",
    "# by the variables you are using to make the prediction (number of rooms and size).\n",
    "\n",
    "# An r2 of 1 indicates that the model perfectly predicts the observed values, the closer to one, the more accurate\n",
    "# An r2 of 0 means the model explains none of the variability in the dependent variable.\n",
    "r2 = r2_score(y_test, y_pred)\n",
    "\n",
    "print(\"Mean Squared Error (MSE):\", mse)\n",
    "print(\"Coefficient of Determination (R^2):\", r2)"
   ]
  },
  {
   "cell_type": "code",
   "execution_count": null,
   "metadata": {},
   "outputs": [],
   "source": [
    "plt.scatter(y_test, y_pred, alpha=0.5)\n",
    "plt.xlabel('Actual Values')\n",
    "plt.ylabel('Predictions')\n",
    "plt.title('Actual Values vs Predictions')\n",
    "\n",
    "# overfitting: Occurs when a model is too complex and fits the training data too well.\n",
    "#              Overfitting could occur if we add too many variables (parameters) or features to the model.\n",
    "#              Symptoms of overfitting include:\n",
    "#                - Low error on the training data.\n",
    "#                - High error on the test data.\n",
    "\n",
    "# underfitting: Occurs when a model is too simple to capture the underlying structure in the data.\n",
    "#               In other words, the model does not fit well to either the training data or the test data.\n",
    "#               This can happen if the model has too few parameters or if it has not captured the necessary complexity of the problem.\n",
    "#               Symptoms of underfitting include:\n",
    "#               - High error on the training data.\n",
    "#               - High error on the test data.\n",
    "\n",
    "# Add perfect reference line (y = x)\n",
    "plt.plot([y_test.min(), y_test.max()], [y_test.min(), y_test.max()], color='red')\n",
    "\n",
    "# Show the plot\n",
    "plt.show()"
   ]
  }
 ],
 "metadata": {
  "kernelspec": {
   "display_name": "Python 3",
   "language": "python",
   "name": "python3"
  },
  "language_info": {
   "codemirror_mode": {
    "name": "ipython",
    "version": 3
   },
   "file_extension": ".py",
   "mimetype": "text/x-python",
   "name": "python",
   "nbconvert_exporter": "python",
   "pygments_lexer": "ipython3",
   "version": "3.11.4"
  },
  "orig_nbformat": 4
 },
 "nbformat": 4,
 "nbformat_minor": 2
}
