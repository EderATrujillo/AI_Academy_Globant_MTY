{
 "cells": [
  {
   "cell_type": "markdown",
   "metadata": {},
   "source": [
    "# **Module 1: Machine Learning**\n",
    "## **Introduction**"
   ]
  },
  {
   "cell_type": "markdown",
   "metadata": {},
   "source": [
    "## Handling Missing Data\n",
    "\n",
    "Handling missing data is a critical step in the machine learning pipeline because the presence of missing values can significantly impact the performance of models. Here are some common strategies for handling missing data:\n",
    "\n",
    "### 1. Removing Missing Data\n",
    "If the missing data is minimal, you can remove the rows or columns with missing values.\n",
    "\n",
    "**Pros:** Ensures that analyses are based on the same set of data.\n",
    "\n",
    "**Cons:** Reduces the dataset size and may introduce bias."
   ]
  },
  {
   "cell_type": "code",
   "execution_count": null,
   "metadata": {},
   "outputs": [],
   "source": [
    "import pandas as pd\n",
    "import numpy as np\n",
    "\n",
    "data = {\n",
    "    'A': [1, 2, np.nan, 4, 5],\n",
    "    'B': [5, np.nan, np.nan, 8, 10],\n",
    "    'C': ['cat', 'dog', 'cat', np.nan, 'dog']\n",
    "}\n",
    "df = pd.DataFrame(data)\n",
    "df"
   ]
  },
  {
   "cell_type": "code",
   "execution_count": null,
   "metadata": {},
   "outputs": [],
   "source": [
    "import pandas as pd\n",
    "\n",
    "print('data frame before: ')\n",
    "print (df)\n",
    "\n",
    "print('\\ndata frame after: ')\n",
    "df.dropna()  # Removes rows with missing values"
   ]
  },
  {
   "cell_type": "markdown",
   "metadata": {},
   "source": [
    "### 2. Imputation:\n",
    "**Mean/Median/Mode Imputation:**  \n",
    "Replace missing values with the mean (numerical), median (numerical), or mode (categorical) of the column.  \n",
    "**Pros:** Simple and quick.  \n",
    "**Cons:** Can distort the distribution and reduce variance."
   ]
  },
  {
   "cell_type": "code",
   "execution_count": null,
   "metadata": {},
   "outputs": [],
   "source": [
    "df = pd.DataFrame({'A': [1, 2, None], 'B': [4, None, 6]})\n",
    "df #DataFrame visualization before transforming SimpleImputer with 'mean'"
   ]
  },
  {
   "cell_type": "code",
   "execution_count": null,
   "metadata": {},
   "outputs": [],
   "source": [
    "from sklearn.impute import SimpleImputer\n",
    "\n",
    "imputer = SimpleImputer(strategy='mean')\n",
    "df['B'] = imputer.fit_transform(df[['B']])\n",
    "df['A'] = imputer.fit_transform(df[['A']])\n",
    "df #DataFrame visualization after transforming imputer with 'mean' strategy"
   ]
  },
  {
   "cell_type": "markdown",
   "metadata": {},
   "source": [
    "**Forward/Backward Fill:**  \n",
    "Replace missing values with the previous or next value in time series data.  \n",
    "**Pros:** Suitable for time series data.  \n",
    "**Cons:** Not suitable for non-sequential data.\n"
   ]
  },
  {
   "cell_type": "code",
   "execution_count": null,
   "metadata": {},
   "outputs": [],
   "source": [
    "df = pd.DataFrame({'A': [1, 2, None], 'B': [4, None, 6]})\n",
    "print(df)\n",
    "print('\\ndata frame after: ')\n",
    "df_ffill = df.ffill()\n",
    "print(df_ffill)"
   ]
  },
  {
   "cell_type": "markdown",
   "metadata": {},
   "source": [
    "\n",
    "**K-Nearest Neighbors (KNN) Imputation:**  \n",
    "Use the K-nearest neighbors to impute missing values.  \n",
    "**Pros:** Can provide more accurate imputations.  \n",
    "**Cons:** Computationally expensive, especially with large datasets."
   ]
  },
  {
   "cell_type": "code",
   "execution_count": null,
   "metadata": {},
   "outputs": [],
   "source": [
    "from sklearn.impute import KNNImputer\n",
    "\n",
    "data = {\n",
    "    'A': [1, 2, np.nan, 4, 5],\n",
    "    'B': [5, np.nan, np.nan, 8, 10],\n",
    "    #'C': ['cat', 'dog', 'cat', np.nan, 'dog']\n",
    "}\n",
    "df = pd.DataFrame(data)\n",
    "df\n",
    "\n",
    "print('\\ndata frame after KNN: ')\n",
    "knn_imputer = KNNImputer(n_neighbors=2)\n",
    "df[['A', 'B']] = knn_imputer.fit_transform(df[['A', 'B']])\n",
    "df"
   ]
  },
  {
   "cell_type": "markdown",
   "metadata": {},
   "source": [
    "**Iterative Imputer:**  \n",
    "Similar to MICE, but it iteratively models each feature as a function of other features.  \n",
    "**Pros:** Provides more robust imputations.  \n",
    "**Cons:** Complex and computationally intensive."
   ]
  },
  {
   "cell_type": "code",
   "execution_count": null,
   "metadata": {},
   "outputs": [],
   "source": [
    "from sklearn.impute import IterativeImputer\n",
    "\n",
    "iter_imputer = IterativeImputer(max_iter=10, random_state=0)\n",
    "df[['A', 'B']] = iter_imputer.fit_transform(df[['A', 'B']])\n",
    "df"
   ]
  },
  {
   "cell_type": "markdown",
   "metadata": {},
   "source": [
    "The program below demonstrates different techniques for handling missing data using the pandas library and scikit-learn's imputation methods."
   ]
  },
  {
   "cell_type": "code",
   "execution_count": null,
   "metadata": {},
   "outputs": [],
   "source": [
    "import pandas as pd\n",
    "import numpy as np\n",
    "from sklearn.impute import SimpleImputer, KNNImputer\n",
    "from sklearn.experimental import enable_iterative_imputer\n",
    "from sklearn.impute import IterativeImputer\n",
    "\n",
    "# Sample data\n",
    "data = {\n",
    "    'A': [1, 2, np.nan, 4, 5],\n",
    "    'B': [5, np.nan, np.nan, 8, 10],\n",
    "    'C': ['cat', 'dog', 'cat', np.nan, 'dog']\n",
    "}\n",
    "df = pd.DataFrame(data)\n",
    "\n",
    "# Removing missing data\n",
    "df_dropna = df.dropna()\n",
    "\n",
    "# Mean/Median/Mode Imputation\n",
    "mean_imputer = SimpleImputer(strategy='mean')\n",
    "df['A'] = mean_imputer.fit_transform(df[['A']])\n",
    "\n",
    "# KNN Imputation\n",
    "knn_imputer = KNNImputer(n_neighbors=2)\n",
    "df[['A', 'B']] = knn_imputer.fit_transform(df[['A', 'B']])\n",
    "\n",
    "# Iterative Imputation\n",
    "iter_imputer = IterativeImputer(max_iter=10, random_state=0)\n",
    "df[['A', 'B']] = iter_imputer.fit_transform(df[['A', 'B']])\n",
    "\n",
    "# Forward Fill\n",
    "#df_ffill = df.fillna(method='ffill')\n",
    "df_ffill = df.ffill()\n",
    "\n",
    "# Create Missing Indicator\n",
    "df['A_missing'] = df['A'].isnull().astype(int)\n",
    "mean_imputer = SimpleImputer(strategy='mean')\n",
    "df['A'] = mean_imputer.fit_transform(df[['A']])\n",
    "df\n",
    "\n"
   ]
  }
 ],
 "metadata": {
  "kernelspec": {
   "display_name": "Python 3",
   "language": "python",
   "name": "python3"
  },
  "language_info": {
   "codemirror_mode": {
    "name": "ipython",
    "version": 3
   },
   "file_extension": ".py",
   "mimetype": "text/x-python",
   "name": "python",
   "nbconvert_exporter": "python",
   "pygments_lexer": "ipython3",
   "version": "3.12.3"
  }
 },
 "nbformat": 4,
 "nbformat_minor": 2
}
