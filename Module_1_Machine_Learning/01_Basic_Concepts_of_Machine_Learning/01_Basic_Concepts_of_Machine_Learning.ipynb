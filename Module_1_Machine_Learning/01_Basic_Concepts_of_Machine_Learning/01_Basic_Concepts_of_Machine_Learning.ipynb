{
 "cells": [
  {
   "cell_type": "markdown",
   "metadata": {},
   "source": [
    "# **Module 1: Machine Learning**\n",
    "## **Introduction**\n",
    "\n",
    "## *Basic Concepts of Machine Learning*\n",
    "\n",
    "**Machine Learning (ML)** is a subset of artificial intelligence (AI) that focuses on building systems that can learn from and make decisions based on data. The core idea is to create algorithms that can identify patterns in data and make predictions or decisions without being explicitly programmed for specific tasks."
   ]
  },
  {
   "cell_type": "markdown",
   "metadata": {},
   "source": [
    "### Key Concepts:\n",
    "\n",
    "**1. Model:** A mathematical representation of a real-world process. In ML, models are created based on training data.\n",
    "\n",
    "**2. Training Data:** The dataset used to train the model. It includes input data and the corresponding expected output.\n",
    "\n",
    "**3. Features:** The individual measurable properties or characteristics of the data.\n",
    "\n",
    "**4. Labels:** The output data that the model is trying to predict (used in supervised learning).\n",
    "\n",
    "**5. Algorithm:** The procedure or formula for solving a problem. In ML, algorithms are used to create models from data."
   ]
  }
 ],
 "metadata": {
  "kernelspec": {
   "display_name": "Python 3",
   "language": "python",
   "name": "python3"
  },
  "language_info": {
   "codemirror_mode": {
    "name": "ipython",
    "version": 3
   },
   "file_extension": ".py",
   "mimetype": "text/x-python",
   "name": "python",
   "nbconvert_exporter": "python",
   "pygments_lexer": "ipython3",
   "version": "3.12.3"
  }
 },
 "nbformat": 4,
 "nbformat_minor": 2
}
