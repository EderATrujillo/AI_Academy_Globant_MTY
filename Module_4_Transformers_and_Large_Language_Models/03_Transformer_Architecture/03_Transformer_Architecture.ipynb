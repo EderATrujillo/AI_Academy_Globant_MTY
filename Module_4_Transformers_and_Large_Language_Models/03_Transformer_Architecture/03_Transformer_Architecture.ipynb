{
 "cells": [
  {
   "cell_type": "markdown",
   "metadata": {},
   "source": [
    "# Transformers Architecture with PyTorch Examples"
   ]
  },
  {
   "cell_type": "code",
   "execution_count": 2,
   "metadata": {},
   "outputs": [
    {
     "name": "stdout",
     "output_type": "stream",
     "text": [
      "Collecting torch\n",
      "  Downloading torch-2.4.1-cp312-none-macosx_11_0_arm64.whl.metadata (26 kB)\n",
      "Collecting filelock (from torch)\n",
      "  Downloading filelock-3.16.0-py3-none-any.whl.metadata (3.0 kB)\n",
      "Collecting typing-extensions>=4.8.0 (from torch)\n",
      "  Using cached typing_extensions-4.12.2-py3-none-any.whl.metadata (3.0 kB)\n",
      "Collecting sympy (from torch)\n",
      "  Using cached sympy-1.13.2-py3-none-any.whl.metadata (12 kB)\n",
      "Collecting networkx (from torch)\n",
      "  Using cached networkx-3.3-py3-none-any.whl.metadata (5.1 kB)\n",
      "Collecting jinja2 (from torch)\n",
      "  Using cached jinja2-3.1.4-py3-none-any.whl.metadata (2.6 kB)\n",
      "Collecting fsspec (from torch)\n",
      "  Downloading fsspec-2024.9.0-py3-none-any.whl.metadata (11 kB)\n",
      "Collecting setuptools (from torch)\n",
      "  Downloading setuptools-75.1.0-py3-none-any.whl.metadata (6.9 kB)\n",
      "Collecting MarkupSafe>=2.0 (from jinja2->torch)\n",
      "  Using cached MarkupSafe-2.1.5-cp312-cp312-macosx_10_9_universal2.whl.metadata (3.0 kB)\n",
      "Collecting mpmath<1.4,>=1.1.0 (from sympy->torch)\n",
      "  Using cached mpmath-1.3.0-py3-none-any.whl.metadata (8.6 kB)\n",
      "Downloading torch-2.4.1-cp312-none-macosx_11_0_arm64.whl (62.1 MB)\n",
      "\u001b[2K   \u001b[90m━━━━━━━━━━━━━━━━━━━━━━━━━━━━━━━━━━━━━━━━\u001b[0m \u001b[32m62.1/62.1 MB\u001b[0m \u001b[31m6.7 MB/s\u001b[0m eta \u001b[36m0:00:00\u001b[0m00:01\u001b[0m00:01\u001b[0m\n",
      "\u001b[?25hUsing cached typing_extensions-4.12.2-py3-none-any.whl (37 kB)\n",
      "Downloading filelock-3.16.0-py3-none-any.whl (16 kB)\n",
      "Downloading fsspec-2024.9.0-py3-none-any.whl (179 kB)\n",
      "Using cached jinja2-3.1.4-py3-none-any.whl (133 kB)\n",
      "Using cached networkx-3.3-py3-none-any.whl (1.7 MB)\n",
      "Downloading setuptools-75.1.0-py3-none-any.whl (1.2 MB)\n",
      "\u001b[2K   \u001b[90m━━━━━━━━━━━━━━━━━━━━━━━━━━━━━━━━━━━━━━━━\u001b[0m \u001b[32m1.2/1.2 MB\u001b[0m \u001b[31m5.2 MB/s\u001b[0m eta \u001b[36m0:00:00\u001b[0ma \u001b[36m0:00:01\u001b[0m\n",
      "\u001b[?25hUsing cached sympy-1.13.2-py3-none-any.whl (6.2 MB)\n",
      "Using cached MarkupSafe-2.1.5-cp312-cp312-macosx_10_9_universal2.whl (18 kB)\n",
      "Using cached mpmath-1.3.0-py3-none-any.whl (536 kB)\n",
      "Installing collected packages: mpmath, typing-extensions, sympy, setuptools, networkx, MarkupSafe, fsspec, filelock, jinja2, torch\n",
      "Successfully installed MarkupSafe-2.1.5 filelock-3.16.0 fsspec-2024.9.0 jinja2-3.1.4 mpmath-1.3.0 networkx-3.3 setuptools-75.1.0 sympy-1.13.2 torch-2.4.1 typing-extensions-4.12.2\n",
      "Note: you may need to restart the kernel to use updated packages.\n"
     ]
    }
   ],
   "source": [
    "%pip install torch"
   ]
  },
  {
   "cell_type": "markdown",
   "metadata": {},
   "source": [
    "\n",
    "## Transformer Overview\n",
    "\n",
    "The Transformer model consists of an encoder and a decoder. Each of these components is made up of several layers of attention mechanisms and feed-forward networks.\n",
    "\n",
    "![Transformer architecture](https://daleonai.com/images/screen-shot-2021-05-06-at-12.12.21-pm.png)\n",
    "\n",
    "As for now we have reviewed **Self-Attention** and **Multiheaded Attention**, let's take a look on how to implement them with examples with PyTorch\n"
   ]
  },
  {
   "cell_type": "markdown",
   "metadata": {},
   "source": [
    "\n",
    "### Self-Attention Calculation\n",
    "\n",
    "The self-attention mechanism can be described with the following steps:\n",
    "\n",
    "1. Compute Query, Key, and Value matrices from the input.\n",
    "2. Calculate attention scores using the dot product of Query and Key.\n",
    "3. Apply a Softmax function to the attention scores.\n",
    "4. Compute the weighted sum of the Value vectors.\n"
   ]
  },
  {
   "cell_type": "markdown",
   "metadata": {},
   "source": [
    "\n",
    "### PyTorch Implementation\n"
   ]
  },
  {
   "cell_type": "code",
   "execution_count": 71,
   "metadata": {},
   "outputs": [
    {
     "name": "stdout",
     "output_type": "stream",
     "text": [
      "Q:tensor([[[ 1.6851,  0.1665, -0.0917, -0.2914],\n",
      "         [-0.8735,  0.8515,  1.1608,  0.1396],\n",
      "         [-0.1546,  1.5666,  0.9541,  1.1648]]])\n",
      "K:tensor([[[ 0.4788,  0.3367,  1.1149, -0.2138],\n",
      "         [ 1.7596, -0.5329,  0.6616, -1.7132],\n",
      "         [ 0.3233,  0.9728,  0.9566, -0.4169]]])\n",
      "V:tensor([[[ 1.0031,  0.5750, -1.0804,  1.0226],\n",
      "         [-2.3141,  0.3248, -0.1342, -0.5509],\n",
      "         [-0.1072,  1.4614, -0.6232, -0.3182]]])\n",
      "Attention:tensor([[[-1.3144,  0.5714, -0.3945, -0.2204],\n",
      "         [ 0.0929,  0.9892, -0.7508,  0.1856],\n",
      "         [ 0.1976,  1.0412, -0.7743,  0.1983]]])\n"
     ]
    }
   ],
   "source": [
    "\n",
    "import torch\n",
    "import torch.nn.functional as F\n",
    "\n",
    "def self_attention(Q, K, V):\n",
    "    dimension = torch.sqrt(torch.Tensor([K.shape[-1]]))\n",
    "    scores = torch.matmul(Q, K.transpose(-2,-1)) / dimension\n",
    "    weights = F.softmax(scores, dim=-1)\n",
    "    output = torch.matmul(weights, V)\n",
    "    return output\n",
    "\n",
    "# Example\n",
    "Q = torch.randn(1, 3, 4)  # (batch_size, seq_len, embed_dim)\n",
    "K = torch.randn(1, 3, 4)\n",
    "V = torch.randn(1, 3, 4)\n",
    "\n",
    "print(f'Q:{Q}\\nK:{K}\\nV:{V}')\n",
    "attention_output = self_attention(Q, K, V)\n",
    "print(f'Attention:{attention_output}')\n"
   ]
  },
  {
   "cell_type": "markdown",
   "metadata": {},
   "source": [
    "\n",
    "## Positional Encodings\n"
   ]
  },
  {
   "cell_type": "markdown",
   "metadata": {},
   "source": [
    "\n",
    "In the description of the original Transformer model, apart from the embeddings the authors provided\n",
    "a mechanism to encode positions of the word.\n",
    "\n",
    "They describe the positional encoding $PE$ in terms of cosines and sines of the positions of the words. These are not dependant\n",
    "on the embeddings. Consider $i$ ranging from $0$ to $d_{model}/2$, and $pos$ the position of the embedding vector, then the \n",
    "$PE$ matrix is given by:\n",
    "\n",
    "$$\n",
    "\\begin{align*}\n",
    "PE(pos, 2i) &=\\sin(\\frac{pos}{l^{2i/d_{model}}}) \\\\\n",
    "PE(pos, 2i+1) &=\\cos(\\frac{pos}{l^{2i/d_{model}}})\n",
    "\\end{align*}\n",
    "$$\n",
    "\n",
    "Here $l$ is a user defined scalar, in the paper _Attention is all you need_ they showcase $l=10000$.\n"
   ]
  },
  {
   "cell_type": "markdown",
   "metadata": {},
   "source": [
    "## PyTorch Implementation\n"
   ]
  },
  {
   "cell_type": "code",
   "execution_count": 105,
   "metadata": {},
   "outputs": [
    {
     "name": "stdout",
     "output_type": "stream",
     "text": [
      "tensor([[[ 8.0419e-01,  2.3076e-02, -1.8849e-03,  3.0204e-01],\n",
      "         [ 5.9696e-01, -5.7712e-01,  3.4466e-01,  5.7928e-01],\n",
      "         [ 2.1203e+00,  4.7336e-01,  1.4695e+00, -1.6983e+00]]])\n"
     ]
    }
   ],
   "source": [
    "import torch\n",
    "import math\n",
    "\n",
    "class PositionalEncoding(torch.nn.Module):\n",
    "    def __init__(self, d_model, max_len=5000, l=10000):\n",
    "\n",
    "        super().__init__()\n",
    "\n",
    "        self.encoding = torch.zeros(max_len, d_model)\n",
    "        positions = torch.arange(0, max_len).unsqueeze(1)\n",
    "        div_term = torch.exp(torch.arange(0, d_model, 2) * -(math.log(l) / d_model))\n",
    "        self.encoding[:, 0::2] = torch.sin(positions * div_term)\n",
    "        self.encoding[:, 1::2] = torch.cos(positions * div_term)\n",
    "        self.encoding = self.encoding.unsqueeze(0)\n",
    "    \n",
    "    def forward(self, x):\n",
    "        return x + self.encoding[:, :x.size(1)]\n",
    "\n",
    "# Example\n",
    "pos_encoding = PositionalEncoding(d_model=4)\n",
    "x = torch.randn(1, 3, 4)\n",
    "encoded_x = pos_encoding(x)\n",
    "print(encoded_x)\n"
   ]
  },
  {
   "cell_type": "markdown",
   "metadata": {},
   "source": [
    "\n",
    "# Encoder block"
   ]
  },
  {
   "cell_type": "markdown",
   "metadata": {},
   "source": [
    "\n",
    "A Transformer encoder block consists of the following layers:\n",
    "\n",
    "- Multi-Head Attention\n",
    "- Add & Norm\n",
    "- Feed-Forward Network\n",
    "- Add & Norm\n"
   ]
  },
  {
   "cell_type": "markdown",
   "metadata": {},
   "source": [
    "## PyTorch Implementation\n"
   ]
  },
  {
   "cell_type": "code",
   "execution_count": 111,
   "metadata": {},
   "outputs": [
    {
     "name": "stdout",
     "output_type": "stream",
     "text": [
      "tensor([[[-1.5598, -0.1438,  1.0702,  0.6334]],\n",
      "\n",
      "        [[-1.3429,  1.4606, -0.2265,  0.1089]],\n",
      "\n",
      "        [[-0.4829,  0.0358,  1.5773, -1.1303]]],\n",
      "       grad_fn=<NativeLayerNormBackward0>)\n"
     ]
    }
   ],
   "source": [
    "\n",
    "import torch.nn as nn\n",
    "\n",
    "class TransformerBlock(nn.Module):\n",
    "    def __init__(self, d_model, nhead, dim_feedforward):\n",
    "        super(TransformerBlock, self).__init__()\n",
    "        self.attention = nn.MultiheadAttention(d_model, nhead)\n",
    "        self.ffn = nn.Sequential(\n",
    "            nn.Linear(d_model, dim_feedforward),\n",
    "            nn.ReLU(),\n",
    "            nn.Linear(dim_feedforward, d_model)\n",
    "        )\n",
    "        self.norm1 = nn.LayerNorm(d_model)\n",
    "        self.norm2 = nn.LayerNorm(d_model)\n",
    "        self.dropout = nn.Dropout(0.1)\n",
    "    \n",
    "    def forward(self, x):\n",
    "        attn_output, _ = self.attention(x, x, x)\n",
    "        x = x + self.dropout(attn_output)\n",
    "        x = self.norm1(x)\n",
    "        ffn_output = self.ffn(x)\n",
    "        x = x + self.dropout(ffn_output)\n",
    "        x = self.norm2(x)\n",
    "        return x\n",
    "\n",
    "# Example\n",
    "transformer_block = TransformerBlock(d_model=4, nhead=2, dim_feedforward=8)\n",
    "x = torch.randn(3, 1, 4)  # (seq_len, batch_size, d_model)\n",
    "output = transformer_block(x)\n",
    "print(output)\n"
   ]
  },
  {
   "cell_type": "code",
   "execution_count": null,
   "metadata": {},
   "outputs": [],
   "source": [
    "import torch.nn as nn\n",
    "\n",
    "class TransformerEncoder(nn.Module):\n",
    "    def __init__(self, d_model, nhead, num_layers, dim_feedforward):\n",
    "        super(TransformerEncoder, self).__init__()\n",
    "        self.positional_encoding = PositionalEncoding(d_model)\n",
    "        self.layers = nn.ModuleList([\n",
    "            TransformerBlock(d_model, nhead, dim_feedforward)\n",
    "            for _ in range(num_layers)\n",
    "        ])\n",
    "    \n",
    "    def forward(self, x):\n",
    "        x = self.positional_encoding(x)\n",
    "        for layer in self.layers:\n",
    "            x = layer(x)\n",
    "        return x\n",
    "\n",
    "# Example\n",
    "model = TransformerEncoder(d_model=4, nhead=2, num_layers=2, dim_feedforward=8)\n",
    "x = torch.randn(3, 1, 4)  # (seq_len, batch_size, d_model)\n",
    "output = model(x)\n",
    "print(output)\n"
   ]
  },
  {
   "cell_type": "markdown",
   "metadata": {},
   "source": [
    "## Decoder Block\n",
    "\n",
    "For the decoder, the implementation employs a **masking** mechanism in the self attention portion. To prevent illegal connections from happening, that is, for the\n",
    "self attention in the masked decoder block to only allow \"seeing\" to past portions of the sequence we can use a triangular lower matrix:\n",
    "\n",
    "$$\n",
    "\\operatorname{mask} = \\begin{bmatrix}\n",
    "1 & 0 & \\cdots & 0 \\\\\n",
    "1 & 1 & \\cdots & 0 \\\\\n",
    "\\vdots & \\vdots & \\ddots & \\vdots \\\\\n",
    "1 & 1 & \\cdots & 1 \n",
    "\\end{bmatrix}\n",
    "$$\n",
    "\n",
    "We will apply this mask to the $QK^T$ matrix making entries that don't match with the ones, $-\\infty$, so they won't contribute anything to the Softmax calculation."
   ]
  },
  {
   "cell_type": "markdown",
   "metadata": {},
   "source": [
    "## PyTorch implementation"
   ]
  },
  {
   "cell_type": "code",
   "execution_count": 3,
   "metadata": {},
   "outputs": [
    {
     "name": "stdout",
     "output_type": "stream",
     "text": [
      "tensor([[[-0.1126, -0.4043,  0.3415,  ...,  0.0902, -0.0898, -0.0392],\n",
      "         [ 0.0580, -0.1321,  0.0879,  ...,  0.0350,  0.0390, -0.0620],\n",
      "         [-0.0621,  0.1411,  0.0290,  ...,  0.0196,  0.1440, -0.0710],\n",
      "         ...,\n",
      "         [-0.1074, -0.0085, -0.0403,  ...,  0.0013, -0.0254, -0.1690],\n",
      "         [-0.0945, -0.1382, -0.0164,  ...,  0.0912, -0.1101, -0.0983],\n",
      "         [-0.0683, -0.0572, -0.0133,  ...,  0.0073, -0.0148, -0.1026]]],\n",
      "       grad_fn=<ViewBackward0>)\n"
     ]
    }
   ],
   "source": [
    "import torch\n",
    "import torch.nn as nn\n",
    "import torch.nn.functional as F\n",
    "\n",
    "class MaskedMultiHeadAttention(nn.Module):\n",
    "    def __init__(self, d_model, nhead):\n",
    "        super(MaskedMultiHeadAttention, self).__init__()\n",
    "        assert d_model % nhead == 0, \"Embedding dimension must be divisible by number of heads\"\n",
    "        \n",
    "        self.d_model = d_model\n",
    "        self.nhead = nhead\n",
    "        self.head_dim = d_model // nhead\n",
    "        \n",
    "        self.q_linear = nn.Linear(d_model, d_model)\n",
    "        self.k_linear = nn.Linear(d_model, d_model)\n",
    "        self.v_linear = nn.Linear(d_model, d_model)\n",
    "        self.out_linear = nn.Linear(d_model, d_model)\n",
    "        \n",
    "        self.dropout = nn.Dropout(0.1)\n",
    "    \n",
    "    def forward(self, query, key, value, mask=None):\n",
    "        batch_size = query.size(0)\n",
    "        \n",
    "        def shape(x):\n",
    "            # (batch_size, seq_length, d_model) -> (batch_size, nhead, seq_length, head_dim)\n",
    "            x = x.view(batch_size, -1, self.nhead, self.head_dim)\n",
    "            return x.permute(0, 2, 1, 3)\n",
    "        \n",
    "        # Linear projections\n",
    "        q = shape(self.q_linear(query))\n",
    "        k = shape(self.k_linear(key))\n",
    "        v = shape(self.v_linear(value))\n",
    "        \n",
    "        # Scaled dot-product attention\n",
    "        scores = torch.matmul(q, k.transpose(-2, -1)) / (self.head_dim ** 0.5)\n",
    "        \n",
    "        if mask is not None:\n",
    "            # Apply the mask to the attention scores\n",
    "            scores = scores.masked_fill(mask == 0, float('-inf'))\n",
    "        \n",
    "        attn_weights = F.softmax(scores, dim=-1)\n",
    "        attn_weights = self.dropout(attn_weights)\n",
    "        \n",
    "        # Weighted sum of values\n",
    "        output = torch.matmul(attn_weights, v)\n",
    "        \n",
    "        # Concat heads and pass through final linear layer\n",
    "        output = output.permute(0, 2, 1, 3).contiguous()\n",
    "        output = output.view(batch_size, -1, self.d_model)\n",
    "        \n",
    "        return self.out_linear(output)\n",
    "\n",
    "# Example usage:\n",
    "d_model = 64\n",
    "nhead = 8\n",
    "seq_length = 20\n",
    "attention = MaskedMultiHeadAttention(d_model, nhead)\n",
    "\n",
    "# Random input tensors\n",
    "query = torch.randn(1, seq_length, d_model)  # (batch_size, seq_length, d_model)\n",
    "key = torch.randn(1, seq_length, d_model)\n",
    "value = torch.randn(1, seq_length, d_model)\n",
    "\n",
    "# Masking: assume that mask is of shape (batch_size, nhead, seq_length, seq_length)\n",
    "mask = torch.tril(torch.ones(seq_length, seq_length)).unsqueeze(0).unsqueeze(0)  # Lower triangular matrix for causal mask\n",
    "mask = mask.to(dtype=torch.bool)  # Convert to boolean mask\n",
    "\n",
    "# Forward pass\n",
    "output = attention(query, key, value, mask)\n",
    "print(output)\n",
    "\n"
   ]
  },
  {
   "cell_type": "markdown",
   "metadata": {},
   "source": [
    "We can finally assemble the PyTorch implementation of the Transformer architecture"
   ]
  },
  {
   "cell_type": "markdown",
   "metadata": {},
   "source": [
    "## PyTorch Implementation"
   ]
  },
  {
   "cell_type": "code",
   "execution_count": null,
   "metadata": {},
   "outputs": [],
   "source": [
    "import torch\n",
    "import torch.nn as nn\n",
    "\n",
    "class DecoderBlock(nn.Module):\n",
    "    def __init__(self, d_model, nhead, dim_feedforward, mask):\n",
    "        super(DecoderBlock, self).__init__()\n",
    "        self.mask = mask\n",
    "        self.transformer_block = TransformerBlock(d_model, nhead, dim_feedforward)\n",
    "        self.masked_attn = MaskedMultiHeadAttention(d_model, nhead)\n",
    "        self.dropout = nn.Dropout(0.1)\n",
    "        self.norm = nn.LayerNorm(d_model)\n",
    "    \n",
    "    def forward(self, output, x):\n",
    "        attn_output = self.masked_attn(output, output, output, self.mask)\n",
    "        attn_output = output + self.dropout(attn_output)\n",
    "        attn_output = self.norm(attn_output)\n",
    "        x = self.transformer_block(x, x, attn_output)\n",
    "        return x\n",
    "\n",
    "\n",
    "class Transformer(nn.Module):\n",
    "    def __init__(self, d_model, nhead, num_layers, dim_feedforward, mask):\n",
    "        super(Transformer, self).__init__()\n",
    "        self.encoder = TransformerEncoder(d_model, nhead, num_layers, dim_feedforward)\n",
    "        self.masked_attn = nn.ModuleList([MaskedMultiHeadAttention(d_model, nhead)\n",
    "                                          for _ in range(num_layers)])\n",
    "    \n",
    "    def forward(self, x):\n",
    "        x = self.positional_encoding(x)\n",
    "        for layer in self.layers:\n",
    "            x = layer(x)\n",
    "        return x\n",
    "\n",
    "class TransformerEncoder(nn.Module):\n",
    "    def __init__(self, d_model, nhead, num_layers, dim_feedforward):\n",
    "        super(TransformerEncoder, self).__init__()\n",
    "        self.positional_encoding = PositionalEncoding(d_model)\n",
    "        self.layers = nn.ModuleList([\n",
    "            TransformerBlock(d_model, nhead, dim_feedforward)\n",
    "            for _ in range(num_layers)\n",
    "        ])\n",
    "    \n",
    "    def forward(self, x):\n",
    "        x = self.positional_encoding(x)\n",
    "        for layer in self.layers:\n",
    "            x = layer(x)\n",
    "        return x\n",
    "\n",
    "# Example\n",
    "model = TransformerEncoder(d_model=4, nhead=2, num_layers=2, dim_feedforward=8)\n",
    "x = torch.randn(3, 1, 4)  # (seq_len, batch_size, d_model)\n",
    "output = model(x)\n",
    "print(output)"
   ]
  },
  {
   "cell_type": "markdown",
   "metadata": {},
   "source": [
    "Conclusion\n",
    "\n",
    "In this notebook, we have explored the core components of the Transformer architecture, including self-attention, positional encoding, and the structure of Transformer blocks. We have also provided PyTorch implementations for each of these components.\n",
    "\n",
    "Feel free to experiment with different configurations and datasets to better understand how Transformers work!"
   ]
  },
  {
   "cell_type": "markdown",
   "metadata": {},
   "source": [
    "## Further reading\n",
    "\n",
    "[Grant Sanderson on Transformers](https://www.youtube.com/watch?v=eMlx5fFNoYc)"
   ]
  }
 ],
 "metadata": {
  "kernelspec": {
   "display_name": ".venv",
   "language": "python",
   "name": "python3"
  },
  "language_info": {
   "codemirror_mode": {
    "name": "ipython",
    "version": 3
   },
   "file_extension": ".py",
   "mimetype": "text/x-python",
   "name": "python",
   "nbconvert_exporter": "python",
   "pygments_lexer": "ipython3",
   "version": "3.12.6"
  }
 },
 "nbformat": 4,
 "nbformat_minor": 2
}
