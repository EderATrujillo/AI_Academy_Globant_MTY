{
 "cells": [
  {
   "attachments": {},
   "cell_type": "markdown",
   "metadata": {},
   "source": [
    "# **Módulo 0: Fundamentos de Programación en Python y Librerías**\n",
    "## **Introducción a Python**\n",
    "\n",
    "## *Sintaxis básica de Python*\n",
    "\n",
    "El objetivo de este módulo es comprender la sintaxis básica de la programación en Python, a fin de usar sus bases de la mejor manera durante la academia de IA.\n",
    "\n",
    "La sintaxis básica de Python se refiere a las reglas y estructuras fundamentales que se utilizan para escribir código en este lenguaje de programación."
   ]
  },
  {
   "attachments": {},
   "cell_type": "markdown",
   "metadata": {},
   "source": [
    "1. Indentación: Python utiliza la indentación para delimitar bloques de código en lugar de llaves o palabras clave como \"begin\" y \"end\". Esto significa que la estructura del código está determinada por la cantidad de espacios en blanco al principio de cada línea. Por ejemplo:"
   ]
  },
  {
   "cell_type": "code",
   "execution_count": 29,
   "metadata": {},
   "outputs": [
    {
     "name": "stdout",
     "output_type": "stream",
     "text": [
      "x es mayor que 5\n"
     ]
    }
   ],
   "source": [
    "x = 10\n",
    "\n",
    "if x > 5:\n",
    " print(\"x es mayor que 5\")\n",
    "else:\n",
    " print(\"x es menor o igual a 5\")"
   ]
  },
  {
   "attachments": {},
   "cell_type": "markdown",
   "metadata": {},
   "source": [
    "2. Comentarios: Se pueden añadir comentarios al código utilizando el símbolo #. Los comentarios son ignorados por el intérprete de Python y sirven para documentar el código."
   ]
  },
  {
   "cell_type": "code",
   "execution_count": 2,
   "metadata": {},
   "outputs": [],
   "source": [
    "# Este es un comentario"
   ]
  },
  {
   "attachments": {},
   "cell_type": "markdown",
   "metadata": {},
   "source": [
    "3. Variables: En Python, las variables se definen y asignan en una sola línea. No es necesario declarar el tipo de variable ya que Python es un lenguaje de tipado dinámico.\n"
   ]
  },
  {
   "cell_type": "code",
   "execution_count": 4,
   "metadata": {},
   "outputs": [
    {
     "name": "stdout",
     "output_type": "stream",
     "text": [
      "10\n",
      "Juan\n"
     ]
    }
   ],
   "source": [
    "x = 10\n",
    "nombre = \"Juan\"\n",
    "\n",
    "print(x)\n",
    "print(nombre)"
   ]
  },
  {
   "attachments": {},
   "cell_type": "markdown",
   "metadata": {},
   "source": [
    "4. Tipos de datos básicos: Python tiene varios tipos de datos básicos, como enteros (int), flotantes (float), cadenas de texto (str), booleanos (bool), entre otros."
   ]
  },
  {
   "cell_type": "code",
   "execution_count": null,
   "metadata": {},
   "outputs": [],
   "source": [
    "numero = 10\n",
    "precio = 19.99\n",
    "nombre = \"Juan\"\n",
    "es_valido = True"
   ]
  },
  {
   "attachments": {},
   "cell_type": "markdown",
   "metadata": {},
   "source": [
    "5. Operadores: Python incluye operadores aritméticos (+, -, *, /, //, %), de comparación (==, !=, <, >, <=, >=), lógicos (and, or, not), entre otros."
   ]
  },
  {
   "cell_type": "code",
   "execution_count": 5,
   "metadata": {},
   "outputs": [
    {
     "name": "stdout",
     "output_type": "stream",
     "text": [
      "8 False False\n"
     ]
    }
   ],
   "source": [
    "suma = 5 + 3\n",
    "es_igual = (5 == 3)\n",
    "es_valido = (x > 5) and (x < 10)\n",
    "\n",
    "print(suma, es_igual, es_valido)"
   ]
  },
  {
   "attachments": {},
   "cell_type": "markdown",
   "metadata": {},
   "source": [
    "6. Cadenas de texto: Las cadenas de texto se pueden definir utilizando comillas simples (') o dobles (\"). También se pueden concatenar utilizando el operador + o repetir utilizando "
   ]
  },
  {
   "cell_type": "code",
   "execution_count": 6,
   "metadata": {},
   "outputs": [
    {
     "name": "stdout",
     "output_type": "stream",
     "text": [
      "Hola, Juan\n"
     ]
    }
   ],
   "source": [
    "saludo = \"Hola, \"\n",
    "nombre = \"Juan\"\n",
    "mensaje = saludo + nombre\n",
    "\n",
    "print(mensaje)"
   ]
  },
  {
   "attachments": {},
   "cell_type": "markdown",
   "metadata": {},
   "source": [
    "Estos son algunos de los conceptos básicos de la sintaxis de Python que te permitirán empezar a escribir código en este lenguaje de manera concisa y clara.\n"
   ]
  },
  {
   "attachments": {},
   "cell_type": "markdown",
   "metadata": {},
   "source": [
    "## *Estructuras de datos: Listas, diccionarios, tuplas, sets*\n",
    "\n",
    "Las estructuras de datos en Python son herramientas fundamentales en Python que te permiten organizar y manipular datos de manera eficiente según tus necesidades."
   ]
  },
  {
   "attachments": {},
   "cell_type": "markdown",
   "metadata": {},
   "source": [
    "1.  Listas:\n",
    "Definición: Una lista es una colección ordenada y mutable de elementos.\n",
    "Sintaxis: Se definen utilizando corchetes [] y los elementos se separan por comas.\n",
    "Ejemplo:"
   ]
  },
  {
   "cell_type": "code",
   "execution_count": 7,
   "metadata": {},
   "outputs": [],
   "source": [
    "lista_numeros = [1, 2, 3, 4, 5]\n",
    "lista_strings = [\"hola\", \"mundo\", \"!\"]\n",
    "lista_mixta = [1, \"dos\", True, 3.14]"
   ]
  },
  {
   "attachments": {},
   "cell_type": "markdown",
   "metadata": {},
   "source": [
    "2. Diccionarios:\n",
    "Definición: Un diccionario es una colección no ordenada y mutable de pares clave-valor.\n",
    "Sintaxis: Se definen utilizando llaves {} y cada par clave-valor se separa por comas, con la clave seguida por : y el valor.\n",
    "Ejemplo:\n"
   ]
  },
  {
   "cell_type": "code",
   "execution_count": 8,
   "metadata": {},
   "outputs": [],
   "source": [
    "diccionario = {\"nombre\": \"Juan\", \"edad\": 30, \"ciudad\": \"Madrid\"}"
   ]
  },
  {
   "attachments": {},
   "cell_type": "markdown",
   "metadata": {},
   "source": [
    "3. Tuplas:\n",
    "Definición: Una tupla es una colección ordenada e inmutable de elementos.\n",
    "Sintaxis: Se definen utilizando paréntesis () y los elementos se separan por comas.\n",
    "Ejemplo:"
   ]
  },
  {
   "cell_type": "code",
   "execution_count": 9,
   "metadata": {},
   "outputs": [],
   "source": [
    "tupla_numeros = (1, 2, 3, 4, 5)\n",
    "tupla_strings = (\"hola\", \"mundo\", \"!\")\n",
    "tupla_mixta = (1, \"dos\", True, 3.14)"
   ]
  },
  {
   "attachments": {},
   "cell_type": "markdown",
   "metadata": {},
   "source": [
    "4. Sets:\n",
    "Definición: Un set es una colección no ordenada y mutable de elementos únicos.\n",
    "Sintaxis: Se definen utilizando llaves {} pero sin pares clave-valor, solo con los elementos separados por comas.\n",
    "Ejemplo:"
   ]
  },
  {
   "cell_type": "code",
   "execution_count": 10,
   "metadata": {},
   "outputs": [],
   "source": [
    "set_numeros = {1, 2, 3, 4, 5}\n",
    "set_letras = {'a', 'b', 'c'}"
   ]
  },
  {
   "attachments": {},
   "cell_type": "markdown",
   "metadata": {},
   "source": [
    "## *Bucles y Condicionales*\n",
    "\n",
    "1. Condicionales:\n",
    "\n",
    "En Python, los condicionales se utilizan para tomar decisiones basadas en condiciones booleanas.\n",
    "La estructura básica de un condicional es la siguiente:\n",
    "\n",
    "```\n",
    "if condicion:\n",
    " # Bloque de código si la condición es verdadera\n",
    "elif otra_condicion:\n",
    " # Bloque de código si otra_condicion es verdadera\n",
    "else:\n",
    " # Bloque de código si ninguna de las condiciones anteriores es verdadera\n",
    " \n",
    "```\n",
    "\n",
    "Puedes utilizar tantos bloques elif como necesites.\n",
    "El bloque else es opcional y se ejecuta si ninguna de las condiciones anteriores es verdadera.\n"
   ]
  },
  {
   "attachments": {},
   "cell_type": "markdown",
   "metadata": {},
   "source": [
    "2. Bucles:\n",
    "\n",
    "En Python, existen dos tipos de bucles: for y while.\n",
    "Bucle for:\n",
    "Se utiliza para iterar sobre una secuencia (como una lista, tupla, diccionario, etc.).\n",
    "La sintaxis es:\n",
    "```\n",
    "for elemento in secuencia:\n",
    "# Bloque de código que se ejecuta en cada iteración\n",
    "```\n",
    "\n",
    "Bucle while:\n",
    "Se utiliza para repetir un bloque de código mientras se cumpla una condición.\n",
    "La sintaxis es:\n",
    "```\n",
    "while condicion:\n",
    "# Bloque de código que se ejecuta mientras la condición sea verdadera\n",
    "```\n",
    "Es importante asegurarse de que la condición del bucle while eventualmente se vuelva falsa para evitar bucles infinitos.\n",
    "\n",
    "Estos son los conceptos básicos de los bucles y condicionales en Python. Son herramientas fundamentales que te permiten controlar el flujo de tu programa y realizar tareas repetitivas de manera eficiente.\n"
   ]
  },
  {
   "attachments": {},
   "cell_type": "markdown",
   "metadata": {},
   "source": [
    "## *Funciones y Clases*\n",
    "\n",
    "1. Funciones:\n",
    "\n",
    "Las funciones en Python son bloques de código reutilizables que realizan una tarea específica.\n",
    "Se definen utilizando la palabra clave def, seguida del nombre de la función y paréntesis que pueden contener los argumentos de entrada.\n",
    "La sintaxis básica es la siguiente:\n",
    "```\n",
    "def nombre_de_funcion(argumento1, argumento2):\n",
    "# Bloque de código de la función\n",
    " \t\t\treturn resultado\n",
    "\n",
    "```\n",
    "Puedes utilizar return para devolver un valor calculado por la función, pero es opcional.\n",
    "Ejemplo:"
   ]
  },
  {
   "cell_type": "code",
   "execution_count": 23,
   "metadata": {},
   "outputs": [
    {
     "name": "stdout",
     "output_type": "stream",
     "text": [
      "8\n"
     ]
    }
   ],
   "source": [
    "def suma(a, b):\n",
    " return a + b\n",
    "\n",
    "resultado = suma(3, 5)\n",
    "print(resultado) # Output: 8"
   ]
  },
  {
   "attachments": {},
   "cell_type": "markdown",
   "metadata": {},
   "source": [
    "2. Clases:\n",
    "\n",
    "Las clases en Python son estructuras que permiten crear objetos con propiedades (atributos) y comportamientos (métodos).\n",
    "Se definen utilizando la palabra clave class, seguida del nombre de la clase y dos puntos : para iniciar el bloque de definición de la clase.\n",
    "Dentro de la clase, puedes definir atributos utilizando el método especial __init__() y métodos que representan el comportamiento de los objetos.\n",
    "La sintaxis básica es la siguiente:"
   ]
  },
  {
   "cell_type": "code",
   "execution_count": 14,
   "metadata": {},
   "outputs": [],
   "source": [
    "class NombreDeClase:\n",
    " def __init__(self, argumento1, argumento2):\n",
    "    self.atributo1 = argumento1\n",
    "    self.atributo2 = argumento2\n",
    "\n",
    " def metodo(self):\n",
    " # Bloque de código del método\n",
    "    return resultado"
   ]
  },
  {
   "attachments": {},
   "cell_type": "markdown",
   "metadata": {},
   "source": [
    "El parámetro self se utiliza para referirse al objeto actual.\n",
    "Puedes acceder a los atributos y métodos de una clase utilizando la notación de punto (objeto.atributo o objeto.metodo()).\n",
    "Ejemplo:\n"
   ]
  },
  {
   "cell_type": "code",
   "execution_count": 15,
   "metadata": {},
   "outputs": [
    {
     "name": "stdout",
     "output_type": "stream",
     "text": [
      "¡Hola! Me llamo Juan y tengo 30 años.\n"
     ]
    }
   ],
   "source": [
    "class Persona:\n",
    " def __init__(self, nombre, edad):\n",
    "    self.nombre = nombre\n",
    "    self.edad = edad\n",
    "\n",
    " def presentarse(self):\n",
    "    return f\"¡Hola! Me llamo {self.nombre} y tengo {self.edad} años.\"\n",
    "\n",
    "persona1 = Persona(\"Juan\", 30)\n",
    "print(persona1.presentarse()) # Output: ¡Hola! Me llamo Juan y tengo 30 años.\n"
   ]
  },
  {
   "attachments": {},
   "cell_type": "markdown",
   "metadata": {},
   "source": [
    "Estos son los conceptos básicos para desarrollar funciones y clases en Python. Las funciones te permiten encapsular código y reutilizarlo fácilmente, mientras que las clases te permiten modelar objetos con propiedades y comportamientos específicos."
   ]
  }
 ],
 "metadata": {
  "kernelspec": {
   "display_name": "Python 3",
   "language": "python",
   "name": "python3"
  },
  "language_info": {
   "codemirror_mode": {
    "name": "ipython",
    "version": 3
   },
   "file_extension": ".py",
   "mimetype": "text/x-python",
   "name": "python",
   "nbconvert_exporter": "python",
   "pygments_lexer": "ipython3",
   "version": "3.11.6"
  },
  "orig_nbformat": 4,
  "vscode": {
   "interpreter": {
    "hash": "aee8b7b246df8f9039afb4144a1f6fd8d2ca17a180786b69acc140d282b71a49"
   }
  }
 },
 "nbformat": 4,
 "nbformat_minor": 2
}
