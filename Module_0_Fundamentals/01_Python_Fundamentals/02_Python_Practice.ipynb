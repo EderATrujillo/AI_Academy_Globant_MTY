{
 "cells": [
  {
   "cell_type": "code",
   "execution_count": 1,
   "metadata": {},
   "outputs": [
    {
     "name": "stdout",
     "output_type": "stream",
     "text": [
      "8\n"
     ]
    }
   ],
   "source": [
    "# Ejercicio 1\n",
    "# Escribe un programa que tome dos números como entrada y muestre la diferencia de los mismos.\n",
    "\n",
    "numero1 = 5\n",
    "numero2 = 3\n"
   ]
  },
  {
   "cell_type": "code",
   "execution_count": null,
   "metadata": {},
   "outputs": [],
   "source": [
    "# Ejercicio 2\n",
    "# Crea una función que tome una cadena de texto como argumento y la imprima en mayúsculas.\n",
    "\n"
   ]
  },
  {
   "cell_type": "code",
   "execution_count": null,
   "metadata": {},
   "outputs": [],
   "source": [
    "# Ejercicio 3\n",
    "# Escribe un programa que tome una lista de números como entrada y muestre el número más grande de la lista.\n",
    "\n",
    "numeros = [4, 2, 9, 5, 1]\n"
   ]
  },
  {
   "cell_type": "code",
   "execution_count": null,
   "metadata": {},
   "outputs": [],
   "source": [
    "# Ejercicio 4\n",
    "# Crea una función que tome una cadena de texto y cuente la cantidad de letras que contiene.\n",
    "\n"
   ]
  },
  {
   "cell_type": "code",
   "execution_count": null,
   "metadata": {},
   "outputs": [],
   "source": [
    "# Ejercicio 5\n",
    "# Escribe un programa que tome una lista de palabras como entrada y muestre la longitud de cada palabra en la lista.\n",
    "\n",
    "palabras = [\"hola\", \"mundo\", \"python\"]\n"
   ]
  },
  {
   "cell_type": "code",
   "execution_count": null,
   "metadata": {},
   "outputs": [],
   "source": [
    "# Ejercicio 6\n",
    "# Crea una función que tome dos números como argumentos y devuelva el resultado de la multiplicación de ambos.\n",
    "\n"
   ]
  },
  {
   "cell_type": "code",
   "execution_count": null,
   "metadata": {},
   "outputs": [],
   "source": [
    "# Ejercicio 7\n",
    "# Escribe un programa que tome una lista de números como entrada y muestre solo los números pares de la lista.\n"
   ]
  },
  {
   "cell_type": "code",
   "execution_count": null,
   "metadata": {},
   "outputs": [],
   "source": [
    "# Ejercicio 8\n",
    "# Crea una función que tome una cadena de texto y devuelva la cadena invertida.\n"
   ]
  },
  {
   "cell_type": "code",
   "execution_count": null,
   "metadata": {},
   "outputs": [],
   "source": [
    "# Ejercicio 9\n",
    "# Escribe un programa que tome una lista de palabras como entrada y muestre solo las palabras que comienzan con la letra 'a'.\n",
    "\n",
    "palabras = [\"auto\", \"manzana\", \"avión\", \"perro\", \"gato\"]\n"
   ]
  },
  {
   "cell_type": "code",
   "execution_count": null,
   "metadata": {},
   "outputs": [],
   "source": [
    "# Ejercicio 10\n",
    "# Crea una función que tome una lista de números como argumento y devuelva la suma de todos los números en la lista.\n"
   ]
  }
 ],
 "metadata": {
  "kernelspec": {
   "display_name": "Python 3",
   "language": "python",
   "name": "python3"
  },
  "language_info": {
   "codemirror_mode": {
    "name": "ipython",
    "version": 3
   },
   "file_extension": ".py",
   "mimetype": "text/x-python",
   "name": "python",
   "nbconvert_exporter": "python",
   "pygments_lexer": "ipython3",
   "version": "3.11.6"
  },
  "orig_nbformat": 4,
  "vscode": {
   "interpreter": {
    "hash": "aee8b7b246df8f9039afb4144a1f6fd8d2ca17a180786b69acc140d282b71a49"
   }
  }
 },
 "nbformat": 4,
 "nbformat_minor": 2
}
