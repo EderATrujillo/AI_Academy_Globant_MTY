{
 "cells": [
  {
   "cell_type": "markdown",
   "metadata": {},
   "source": [
    "# Description\n",
    "\n",
    "Python code example for reading the bits of an Image of 600 x 499 and store it using **Numpy arrays**. Then doing some transformation to apply a grayscale operation and save it to a new image."
   ]
  },
  {
   "cell_type": "markdown",
   "metadata": {},
   "source": [
    "### Step 1.Import libraries.\n",
    "\n",
    "We first need to import the libraries this demo is going to use. Run the following comand to install pillow library (Python Imaging Library)"
   ]
  },
  {
   "cell_type": "code",
   "execution_count": null,
   "metadata": {},
   "outputs": [],
   "source": [
    "pip install pillow"
   ]
  },
  {
   "cell_type": "code",
   "execution_count": null,
   "metadata": {},
   "outputs": [],
   "source": [
    "import numpy as np\n",
    "from PIL import Image"
   ]
  },
  {
   "cell_type": "markdown",
   "metadata": {},
   "source": [
    "### Step 2. Load the image using NumPy"
   ]
  },
  {
   "cell_type": "code",
   "execution_count": null,
   "metadata": {},
   "outputs": [],
   "source": [
    "image = np.array(Image.open('Module_0_Fundamentals/02_Python_Libraries_for_Data_Science/05_Demos/Husky.jpg'))\n",
    "\n",
    "# Display the image array\n",
    "print(\"Original Image array:\")\n",
    "print(image)"
   ]
  },
  {
   "cell_type": "markdown",
   "metadata": {},
   "source": [
    "### Step 3. Convert the image to grayscale"
   ]
  },
  {
   "cell_type": "code",
   "execution_count": null,
   "metadata": {},
   "outputs": [],
   "source": [
    "grayscale_image = np.dot(image[...,:3], [0.2989, 0.5870, 0.1140])\n",
    "\n",
    "# Display the image array\n",
    "print(\"Grayscale Image array:\")\n",
    "print(grayscale_image)"
   ]
  },
  {
   "cell_type": "markdown",
   "metadata": {},
   "source": [
    "### Step 4. Perform operations for the new grayscale image."
   ]
  },
  {
   "cell_type": "code",
   "execution_count": null,
   "metadata": {},
   "outputs": [],
   "source": [
    "# Convert the grayscale image to a PIL Image\n",
    "grayscale_image_pil = Image.fromarray(grayscale_image.astype(np.uint8))\n",
    "\n",
    "# Resize the grayscale image to 500x500 pixels\n",
    "resized_grayscale_image = grayscale_image_pil.resize((600, 400))\n",
    "# rotated_grayscale_image = resized_grayscale_image.rotate(90)"
   ]
  },
  {
   "cell_type": "markdown",
   "metadata": {},
   "source": [
    "### Step 5. Save the new image file."
   ]
  },
  {
   "cell_type": "code",
   "execution_count": null,
   "metadata": {},
   "outputs": [],
   "source": [
    "# Save the grayscale image to a new file\n",
    "resized_grayscale_image.save('Module_0_Fundamentals/02_Python_Libraries_for_Data_Science/05_Demos/Husky_Grayscale.jpg')\n",
    "\n",
    "# Display the size of the resized grayscale image\n",
    "print(\"Size of the resized grayscale image:\", resized_grayscale_image.size)"
   ]
  },
  {
   "cell_type": "markdown",
   "metadata": {},
   "source": [
    "# Final Notes\n",
    "\n",
    "At the end of this demo, the student should be able to know the basic on how to use the Numpy library to read an image and convert it to grayscale. \n",
    "\n",
    "You can find the entire Python code on the file: **01_DemoNumpy_Final.py**"
   ]
  }
 ],
 "metadata": {
  "language_info": {
   "name": "python"
  }
 },
 "nbformat": 4,
 "nbformat_minor": 2
}
