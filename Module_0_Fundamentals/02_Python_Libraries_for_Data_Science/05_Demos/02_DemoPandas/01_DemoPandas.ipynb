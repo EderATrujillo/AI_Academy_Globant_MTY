{
 "cells": [
  {
   "cell_type": "markdown",
   "metadata": {},
   "source": [
    "# Description\n",
    "\n",
    "Python code example for reading a CSV file with 20 Students data representing theirs scores per subject (Math, Science, English). Doing some statistics and calculate their average per subject and finally plotting it to generate a visual graph."
   ]
  },
  {
   "cell_type": "markdown",
   "metadata": {},
   "source": [
    "### Step 1. We first need to import the libraries this demo is going to use"
   ]
  },
  {
   "cell_type": "code",
   "execution_count": 6,
   "metadata": {},
   "outputs": [
    {
     "ename": "SyntaxError",
     "evalue": "invalid syntax (3922064698.py, line 1)",
     "output_type": "error",
     "traceback": [
      "\u001b[1;36m  Cell \u001b[1;32mIn[6], line 1\u001b[1;36m\u001b[0m\n\u001b[1;33m    pip install pandas\u001b[0m\n\u001b[1;37m        ^\u001b[0m\n\u001b[1;31mSyntaxError\u001b[0m\u001b[1;31m:\u001b[0m invalid syntax\n"
     ]
    }
   ],
   "source": [
    "pip install pandas\n",
    "pip install matplotlib"
   ]
  },
  {
   "cell_type": "code",
   "execution_count": null,
   "metadata": {},
   "outputs": [],
   "source": [
    "import pandas as pd\n",
    "import matplotlib.pyplot as plt"
   ]
  },
  {
   "cell_type": "markdown",
   "metadata": {},
   "source": [
    "### Step 2. Load the dataset\n",
    "\n",
    "After all libraries has been imported, we are going to use the read_csv method from Pandas. **This method will read a comma-separated values (csv) file into DataFram** from the given string path as parameter."
   ]
  },
  {
   "cell_type": "code",
   "execution_count": null,
   "metadata": {},
   "outputs": [],
   "source": [
    "students_data = pd.read_csv('Module_0_Fundamentals/02_Python_Libraries_for_Data_Science/05_Demos/02_DemoPandas/students_data.csv')\n",
    "\n",
    "# Display the first few rows of the DataFrame\n",
    "# The head function returns the first n rows for the object based on position. Default is 5.\n",
    "print(\"First few rows of the dataset:\")\n",
    "print(students_data.head())\n",
    "\n",
    "# Basic statistics\n",
    "# The describe function generates descriptive statistics. \n",
    "# Descriptive statistics include those that summarize the central tendency, dispersion and shape of a dataset’s distribution\n",
    "print(\"\\nBasic statistics:\")\n",
    "print(students_data.describe())"
   ]
  },
  {
   "cell_type": "markdown",
   "metadata": {},
   "source": [
    "### Step 3. Calculate average score for each subject"
   ]
  },
  {
   "cell_type": "code",
   "execution_count": null,
   "metadata": {},
   "outputs": [],
   "source": [
    "average_scores = students_data[['Math', 'Science', 'English']].mean(axis=1)"
   ]
  },
  {
   "cell_type": "markdown",
   "metadata": {},
   "source": [
    "### Step 4. Plot average scores\n",
    "\n",
    "In this last step, we will use some plotting functions to plot the read data from the csv."
   ]
  },
  {
   "cell_type": "code",
   "execution_count": null,
   "metadata": {},
   "outputs": [],
   "source": [
    "# Create a new figure, or activate an existing figure.\n",
    "plt.figure(figsize=(10, 6))\n",
    "average_scores.plot(kind='bar', color='skyblue')\n",
    "plt.title('Average Scores of Students')\n",
    "plt.xlabel('Subjects')\n",
    "plt.ylabel('Average Score')\n",
    "plt.xticks(rotation=45)\n",
    "plt.grid(axis='y', linestyle='--', alpha=0.7)\n",
    "plt.tight_layout()\n",
    "plt.show()"
   ]
  }
 ],
 "metadata": {
  "kernelspec": {
   "display_name": "Python 3",
   "language": "python",
   "name": "python3"
  },
  "language_info": {
   "codemirror_mode": {
    "name": "ipython",
    "version": 3
   },
   "file_extension": ".py",
   "mimetype": "text/x-python",
   "name": "python",
   "nbconvert_exporter": "python",
   "pygments_lexer": "ipython3",
   "version": "3.12.3"
  }
 },
 "nbformat": 4,
 "nbformat_minor": 2
}
