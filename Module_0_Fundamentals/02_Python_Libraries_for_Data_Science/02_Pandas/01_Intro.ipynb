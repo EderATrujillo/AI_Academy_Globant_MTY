{
 "cells": [
  {
   "cell_type": "markdown",
   "metadata": {},
   "source": [
    "# Introduction:\n",
    "\n",
    "Pandas is an open-source library built on top of the Python programming language, designed for data manipulation and analysis. It offers easy-to-use data structures and functions for working with structured data, making it an essential tool for data scientists, analysts, and developers alike."
   ]
  },
  {
   "cell_type": "markdown",
   "metadata": {},
   "source": [
    "## Key Features of Pandas:\n",
    "\n",
    "1. **Data Structures:**\n",
    "    - **Series:** A one-dimensional array capable of holding any data type.\n",
    "    - **DataFrame:** A two-dimensional labeled data structure with columns of potentially different types.\n",
    "\n",
    "2. **Data Cleaning and Preparation:**\n",
    "    - Handling missing data.\n",
    "    - Data filtering and sorting.\n",
    "    - Removing duplicates.\n",
    "    - Data normalization and transformation.\n",
    "\n",
    "3. **Data Manipulation:**\n",
    "    - Indexing, slicing, and subsetting data.\n",
    "    - Applying functions to data.\n",
    "    - Combining and merging datasets.\n",
    "\n",
    "4. **Data Analysis:**\n",
    "    - Descriptive statistics.\n",
    "    - Grouping and aggregation.\n",
    "    - Time series analysis.\n",
    "    - Handling categorical data."
   ]
  },
  {
   "cell_type": "markdown",
   "metadata": {},
   "source": [
    "## Getting Started with Pandas:"
   ]
  },
  {
   "cell_type": "markdown",
   "metadata": {},
   "source": [
    "1. **Installation:**\n",
    "\n",
    "    - Install Pandas using pip:"
   ]
  },
  {
   "cell_type": "code",
   "execution_count": null,
   "metadata": {},
   "outputs": [],
   "source": [
    "pip install pandas"
   ]
  },
  {
   "cell_type": "markdown",
   "metadata": {},
   "source": [
    "2. **Importing Pandas:**\n",
    "\n",
    "    - Import Pandas into your Python script:"
   ]
  },
  {
   "cell_type": "code",
   "execution_count": 2,
   "metadata": {},
   "outputs": [],
   "source": [
    "import pandas as pd"
   ]
  },
  {
   "cell_type": "markdown",
   "metadata": {},
   "source": [
    "3. **Loading Data:**\n",
    "\n",
    "    - Read data from various sources:\n",
    "        - CSV files: **_pd.read_csv('filename.csv')_**\n",
    "        - Excel files: **_pd.read_excel('filename.xlsx')_**\n",
    "        - SQL databases: **_pd.read_sql('SELECT * FROM table_name', connection)_**"
   ]
  },
  {
   "cell_type": "code",
   "execution_count": null,
   "metadata": {},
   "outputs": [],
   "source": [
    "sample = pd.read_csv('sample_intro.csv')\n",
    "print(sample)"
   ]
  },
  {
   "cell_type": "markdown",
   "metadata": {},
   "source": [
    "4. **Exploring Data:**\n",
    "\n",
    "    - View the first few rows of a DataFrame: **_df.head()_**\n",
    "    - Get information about the DataFrame: **_df.info()_**\n",
    "    - Summary statistics: **_df.describe()_**\n"
   ]
  },
  {
   "cell_type": "code",
   "execution_count": null,
   "metadata": {},
   "outputs": [],
   "source": [
    "sample.describe()"
   ]
  },
  {
   "cell_type": "markdown",
   "metadata": {},
   "source": [
    "5. **Data Cleaning:**\n",
    "\n",
    "    - Handling missing values:\n",
    "        - Drop rows/columns: **_df.dropna()_**\n",
    "        - Fill missing values: **_df.fillna(value)_**\n",
    "    - Removing duplicates: **_df.drop_duplicates()_**\n",
    "    - Data type conversion: **_df.astype(dtype)_**"
   ]
  },
  {
   "cell_type": "markdown",
   "metadata": {},
   "source": [
    "6. **Data Manipulation:**\n",
    "\n",
    "    - Selecting data:\n",
    "        - Select columns: **_df['column_name']_** or **_df.column_name_**\n",
    "        - Select rows: **_df.iloc[index]_** or **_df.loc[label]_**\n",
    "    - Filtering data: **_df[df['condition']]_**\n",
    "    - Adding new columns: **_df['new_column'] = ..._**"
   ]
  },
  {
   "cell_type": "code",
   "execution_count": 15,
   "metadata": {},
   "outputs": [
    {
     "name": "stdout",
     "output_type": "stream",
     "text": [
      "Student_ID            2\n",
      "Name          Student_2\n",
      "Math                 97\n",
      "Science              73\n",
      "English              79\n",
      "Name: 1, dtype: object\n"
     ]
    }
   ],
   "source": [
    "filteredStudent = sample.iloc[1]\n",
    "print(filteredStudent)"
   ]
  },
  {
   "cell_type": "markdown",
   "metadata": {},
   "source": [
    "7. **Data Analysis:**\n",
    "\n",
    "- Grouping data: **_df.groupby('column').agg({'column': 'function'})_**\n",
    "- Aggregating data: **_df.groupby('column').agg({'column': 'function'})_**\n",
    "- Pivot tables: **_pd.pivot_table(df, values='value', index='index', columns='columns', aggfunc='function')_**"
   ]
  },
  {
   "cell_type": "markdown",
   "metadata": {},
   "source": [
    "8. **Data Visualization:**\n",
    "\n",
    "For this step, in order to display the graph you will need to install and import the Matplotlib library. In the next topic we will cover this library in more detail. For now, you can follow the below instructions to install it."
   ]
  },
  {
   "cell_type": "code",
   "execution_count": null,
   "metadata": {},
   "outputs": [],
   "source": [
    "# Installing Matplotlib\n",
    "# !pip install in Jupyter is a shell command.\n",
    "# pip itself is not a Python statement, therefore not valid Syntax\n",
    "\n",
    "!pip install matplotlib"
   ]
  },
  {
   "cell_type": "markdown",
   "metadata": {},
   "source": [
    "- Plotting with Pandas:\n",
    "    - Line plot: df.plot(kind='line')\n",
    "    - Histogram: df.plot(kind='hist')\n",
    "    - Scatter plot: df.plot(kind='scatter', x='x_column', y='y_column')"
   ]
  },
  {
   "cell_type": "code",
   "execution_count": null,
   "metadata": {},
   "outputs": [],
   "source": [
    "sample.plot(kind='scatter', x='Name', y='Math')"
   ]
  },
  {
   "cell_type": "markdown",
   "metadata": {},
   "source": [
    "## Conclusion:\n",
    "\n",
    "Pandas provides a powerful and flexible toolkit for data analysis and manipulation in Python. By mastering its functionalities, you can efficiently handle, clean, analyze, and visualize data for various projects and applications."
   ]
  }
 ],
 "metadata": {
  "kernelspec": {
   "display_name": "Python 3",
   "language": "python",
   "name": "python3"
  },
  "language_info": {
   "codemirror_mode": {
    "name": "ipython",
    "version": 3
   },
   "file_extension": ".py",
   "mimetype": "text/x-python",
   "name": "python",
   "nbconvert_exporter": "python",
   "pygments_lexer": "ipython3",
   "version": "3.12.3"
  }
 },
 "nbformat": 4,
 "nbformat_minor": 2
}
